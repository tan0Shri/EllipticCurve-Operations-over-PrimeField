{
 "cells": [
  {
   "cell_type": "code",
   "execution_count": 1,
   "metadata": {},
   "outputs": [
    {
     "name": "stdout",
     "output_type": "stream",
     "text": [
      "Prime (p): 0xe92e40ad6f281c8a082afdc49e1372659455bec8ceea043a614c835b7fe9eff5\n",
      "Elliptic Curve: y^2 = x^3 + 3x + 0\n",
      "Number of points (#E): 0xe92e40ad6f281c8a082afdc49e137266651ce138c285cc47239635d7416673ba\n",
      "factors:  2 * 52735307536212003732388528503008556767657190107876112472110061406221923203549\n",
      "Largest prime order (n): 52735307536212003732388528503008556767657190107876112472110061406221923203549\n",
      "Cofactor (h): 2\n"
     ]
    }
   ],
   "source": [
    "# Import SageMath modules\n",
    "from sage.all import *\n",
    "\n",
    "# Given prime\n",
    "p = 0xe92e40ad6f281c8a082afdc49e1372659455bec8ceea043a614c835b7fe9eff5\n",
    "\n",
    "# Elliptic curve parameters (can adjust a, b as needed)\n",
    "a = 3\n",
    "b = 0\n",
    "\n",
    "# Define the elliptic curve over the finite field F_p\n",
    "E = EllipticCurve(GF(p), [a, b])\n",
    "\n",
    "# Compute the number of points on the curve\n",
    "num_points = E.cardinality()\n",
    "\n",
    "# Factorize the cardinality of the elliptic curve\n",
    "factors = factor(num_points)\n",
    "\n",
    "# Extract the largest prime factor\n",
    "n = max([factor[0] for factor in factors])\n",
    "\n",
    "# Compute the cofactor\n",
    "h = num_points // n\n",
    "\n",
    "# Print results\n",
    "print(\"Prime (p):\", hex(p))\n",
    "print(\"Elliptic Curve: y^2 = x^3 + {}x + {}\".format(a, b))\n",
    "print(\"Number of points (#E):\", hex(num_points))\n",
    "print(\"factors: \",factors)\n",
    "print(\"Largest prime order (n):\", n)\n",
    "print(\"Cofactor (h):\", h)\n"
   ]
  },
  {
   "cell_type": "code",
   "execution_count": 18,
   "metadata": {},
   "outputs": [
    {
     "name": "stdout",
     "output_type": "stream",
     "text": [
      "The sum of a and b modulo p is: 0x1f0d781c18e044a21f4112d8b1258375b373dbe4ea041d527862986f92fc0105\n",
      "The sub of a and b modulo p is: 0xe85d02c98c7c0a1817161514131211101f1e1d1c1b1a19181716151413121110\n",
      "The mult of a and b modulo p is: 0x34a76467b6377582066b7014d1f70f07ed8f2934567ffc1fca7ab5fd45cd2b2e\n",
      "True\n"
     ]
    }
   ],
   "source": [
    "a = 0x0f1e1d1c1b1a191817161514131211101f1e1d1c1b1a19181716151413121110\n",
    "#b = 0x0fffffffffffffffffffffffffffffffffffffffffffffffffffffffffffffff\n",
    "b = 0x0fef5afffdc62b8a082afdc49e1372659455bec8ceea043a614c835b7fe9eff5\n",
    "\n",
    "#b = 0x111111111111111111\n",
    "# Define the prime field\n",
    "p = 0xe92e40ad6f281c8a082afdc49e1372659455bec8ceea043a614c835b7fe9eff5\n",
    "\n",
    "# Addition in the prime field\n",
    "sum = (a + b) % p\n",
    "sub = (a - b) % p\n",
    "mul = (a * b) % p\n",
    "\n",
    "# Output the result\n",
    "print(f\"The sum of a and b modulo p is: {hex(sum)}\")\n",
    "print(f\"The sub of a and b modulo p is: {hex(sub)}\")\n",
    "print(f\"The mult of a and b modulo p is: {hex(mul)}\")\n",
    "c= 0x34a76467b6377582066b7014d1f70f07ed8f2934567ffc1fca7ab5fd45cd2b2e\n",
    "print(c == mul)\n"
   ]
  },
  {
   "cell_type": "code",
   "execution_count": 8,
   "metadata": {},
   "outputs": [
    {
     "name": "stdout",
     "output_type": "stream",
     "text": [
      "0x1af78caf527ded67630132a433236c9243cc074842b442e90334bce9780e2aa2\n"
     ]
    }
   ],
   "source": [
    "p = 0xe92e40ad6f281c8a082afdc49e1372659455bec8ceea043a614c835b7fe9eff5\n",
    "n = 0x0f1e1d1c1b1a191817161514131211101f1e1d1c1b1a19181716151413121110\n",
    "b = 0x2\n",
    "r = pow(b,n,p)\n",
    "print(hex(r))\n"
   ]
  },
  {
   "cell_type": "code",
   "execution_count": 19,
   "metadata": {},
   "outputs": [
    {
     "name": "stdout",
     "output_type": "stream",
     "text": [
      "0xae9b522f048de4c58246c569560c565a3bed48e3939314c8df6e60d2917e195f\n"
     ]
    }
   ],
   "source": [
    "n = 0x0f1e1d1c1b1a191817161514131211101f1e1d1c1b1a19181716151413121110\n",
    "p = 0xe92e40ad6f281c8a082afdc49e1372659455bec8ceea043a614c835b7fe9eff5\n",
    "inv = inverse_mod(n, p)\n",
    "print(hex(inv))\n",
    "\n"
   ]
  },
  {
   "cell_type": "code",
   "execution_count": null,
   "metadata": {},
   "outputs": [],
   "source": []
  }
 ],
 "metadata": {
  "kernelspec": {
   "display_name": "SageMath 10.4",
   "language": "sage",
   "name": "sagemath"
  },
  "language_info": {
   "codemirror_mode": {
    "name": "ipython",
    "version": 3
   },
   "file_extension": ".py",
   "mimetype": "text/x-python",
   "name": "python",
   "nbconvert_exporter": "python",
   "pygments_lexer": "ipython3",
   "version": "3.12.7"
  }
 },
 "nbformat": 4,
 "nbformat_minor": 2
}
