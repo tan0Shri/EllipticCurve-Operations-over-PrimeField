{
 "cells": [
  {
   "cell_type": "code",
   "execution_count": 1,
   "metadata": {},
   "outputs": [
    {
     "name": "stdout",
     "output_type": "stream",
     "text": [
      "Prime (p): 0xe92e40ad6f281c8a082afdc49e1372659455bec8ceea043a614c835b7fe9eff5\n",
      "Elliptic Curve: y^2 = x^3 + 3x + 0\n",
      "Number of points (#E): 0xe92e40ad6f281c8a082afdc49e137266651ce138c285cc47239635d7416673ba\n",
      "factors:  2 * 52735307536212003732388528503008556767657190107876112472110061406221923203549\n",
      "Largest prime order (n): 52735307536212003732388528503008556767657190107876112472110061406221923203549\n",
      "Cofactor (h): 2\n"
     ]
    }
   ],
   "source": [
    "# Import SageMath modules\n",
    "from sage.all import *\n",
    "\n",
    "# Given prime\n",
    "p = 0xe92e40ad6f281c8a082afdc49e1372659455bec8ceea043a614c835b7fe9eff5\n",
    "\n",
    "# Elliptic curve parameters (can adjust a, b as needed)\n",
    "a = 3\n",
    "b = 0\n",
    "\n",
    "# Define the elliptic curve over the finite field F_p\n",
    "E = EllipticCurve(GF(p), [a, b])\n",
    "\n",
    "# Compute the number of points on the curve\n",
    "num_points = E.cardinality()\n",
    "\n",
    "# Factorize the cardinality of the elliptic curve\n",
    "factors = factor(num_points)\n",
    "\n",
    "# Extract the largest prime factor\n",
    "n = max([factor[0] for factor in factors])\n",
    "\n",
    "# Compute the cofactor\n",
    "h = num_points // n\n",
    "\n",
    "# Print results\n",
    "print(\"Prime (p):\", hex(p))\n",
    "print(\"Elliptic Curve: y^2 = x^3 + {}x + {}\".format(a, b))\n",
    "print(\"Number of points (#E):\", hex(num_points))\n",
    "print(\"factors: \",factors)\n",
    "print(\"Largest prime order (n):\", n)\n",
    "print(\"Cofactor (h):\", h)\n"
   ]
  },
  {
   "cell_type": "code",
   "execution_count": 55,
   "metadata": {},
   "outputs": [
    {
     "name": "stdout",
     "output_type": "stream",
     "text": [
      "The sum of a and b modulo p is: 0x25efdc6eabf1fc8e0eeb174f74fe9eaa8ac85e534c3014ddb5c991b89328211a\n",
      "The sub of a and b modulo p is: 0xe17a9e76f96a522c276c109d4f38f5db47c99aadb8ee218cd9af1bcb12e5f0fb\n",
      "The mult of a and b modulo p is: 0x7d889bb640bf3b9df3d94b46038d423681c66e0ff3de89128eca0b2e9e0ed97b\n",
      "0xf0e1e2e3e4e5e6e7e8e9eaebecedeeefe0e1e2e3e4e5e6e7e8e9eaebecedeeef\n"
     ]
    }
   ],
   "source": [
    "a = 0x0f1e1d1c1b1a191817161514131211101f1e1d1c1b1a19181716151413121110\n",
    "b = 0xffffffffffffffffffffffffffffffffffffffffffffffffffffffffffffffff\n",
    "\n",
    "\n",
    "#b = 0x111111111111111111\n",
    "# Define the prime field\n",
    "p = 0xe92e40ad6f281c8a082afdc49e1372659455bec8ceea043a614c835b7fe9eff5\n",
    "\n",
    "# Addition in the prime field\n",
    "sum = (a + b) % p\n",
    "sub = (a - b) % p\n",
    "mul = (a * b) % p\n",
    "\n",
    "# Output the result\n",
    "print(f\"The sum of a and b modulo p is: {hex(sum)}\")\n",
    "print(f\"The sub of a and b modulo p is: {hex(sub)}\")\n",
    "print(f\"The mult of a and b modulo p is: {hex(mul)}\")\n",
    "\n",
    "print(hex(b-a))\n"
   ]
  },
  {
   "cell_type": "code",
   "execution_count": null,
   "metadata": {},
   "outputs": [],
   "source": []
  },
  {
   "cell_type": "code",
   "execution_count": 57,
   "metadata": {},
   "outputs": [
    {
     "name": "stdout",
     "output_type": "stream",
     "text": [
      "0x1af78caf527ded67630132a433236c9243cc074842b442e90334bce9780e2aa2\n"
     ]
    }
   ],
   "source": [
    "p = 0xe92e40ad6f281c8a082afdc49e1372659455bec8ceea043a614c835b7fe9eff5\n",
    "n = 0x0f1e1d1c1b1a191817161514131211101f1e1d1c1b1a19181716151413121110\n",
    "r = pow(2,n,p)\n",
    "print(hex(r))\n"
   ]
  }
 ],
 "metadata": {
  "kernelspec": {
   "display_name": "SageMath 10.4",
   "language": "sage",
   "name": "sagemath"
  },
  "language_info": {
   "codemirror_mode": {
    "name": "ipython",
    "version": 3
   },
   "file_extension": ".py",
   "mimetype": "text/x-python",
   "name": "python",
   "nbconvert_exporter": "python",
   "pygments_lexer": "ipython3",
   "version": "3.12.7"
  }
 },
 "nbformat": 4,
 "nbformat_minor": 2
}
