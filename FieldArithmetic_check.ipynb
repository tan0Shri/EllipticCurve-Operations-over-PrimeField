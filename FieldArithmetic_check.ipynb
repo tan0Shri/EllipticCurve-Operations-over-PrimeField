{
 "cells": [
  {
   "cell_type": "code",
   "execution_count": 2,
   "metadata": {
    "vscode": {
     "languageId": "python"
    }
   },
   "outputs": [
    {
     "name": "stdout",
     "output_type": "stream",
     "text": [
      "The sum of a and b modulo p is: 0x1f0d781c18e044a21f4112d8b1258375b373dbe4ea041d527862986f92fc0105\n",
      "The sub of a and b modulo p is: 0xd13de3e2ac1271f114e8b08b0161557537a1acb3cfeb224a366e476cd7dee5\n",
      "The mult of a and b modulo p is: 0x34a76467b6377582066b7014d1f70f07ed8f2934567ffc1fca7ab5fd45cd2b2e\n",
      "The inverse of a modulo p is: 0x37c568db82b157f86f2ddffca1b404ba1ef6909814491caaeffa34d944bd17c7\n",
      "The div of a and b modulo p is: 0xc991cf38497a4f7d476276fae92fc05f2003395180ee94452f043420b78f2b32\n",
      "False\n"
     ]
    }
   ],
   "source": [
    "# Import SageMath modules\n",
    "from sage.all import *\n",
    "\n",
    "b = 0x0f1e1d1c1b1a191817161514131211101f1e1d1c1b1a19181716151413121110\n",
    "#b = 0x0fffffffffffffffffffffffffffffffffffffffffffffffffffffffffffffff\n",
    "a = 0x0fef5afffdc62b8a082afdc49e1372659455bec8ceea043a614c835b7fe9eff5\n",
    "\n",
    "#b = 0x111111111111111111\n",
    "# Define the prime field\n",
    "p = 0xe92e40ad6f281c8a082afdc49e1372659455bec8ceea043a614c835b7fe9eff5\n",
    "\n",
    "# Addition in the prime field\n",
    "sum = (a + b) % p\n",
    "sub = (a - b) % p\n",
    "mul = (a * b) % p\n",
    "inv = inverse_mod(a, p)\n",
    "div = (a / b) % p\n",
    "\n",
    "# Output the result\n",
    "print(f\"The sum of a and b modulo p is: {hex(sum)}\")\n",
    "print(f\"The sub of a and b modulo p is: {hex(sub)}\")\n",
    "print(f\"The mult of a and b modulo p is: {hex(mul)}\")\n",
    "print(f\"The inverse of a modulo p is: {hex(inv)}\")\n",
    "print(f\"The div of a and b modulo p is: {hex(div)}\")\n",
    "c= 0x67c1c974fd5803bc6b11642d035ac07f5297a87d47a0130e8ba44dda9e44de8e\n",
    "print(c == div)\n"
   ]
  },
  {
   "cell_type": "code",
   "execution_count": null,
   "metadata": {
    "vscode": {
     "languageId": "python"
    }
   },
   "outputs": [
    {
     "name": "stdout",
     "output_type": "stream",
     "text": [
      "0xe6b2fff3af18aff8f6ec6910efad0c59c5c5f28a588f258812637a9e4bdea7e1\n"
     ]
    }
   ],
   "source": [
    "p = 0xe92e40ad6f281c8a082afdc49e1372659455bec8ceea043a614c835b7fe9eff5\n",
    "n = 0x0def5afffdc62b8a082afdc49e1372659455bec8ceea043a614c835b7fe9eff5\n",
    "b = 0x2\n",
    "r = pow(b,n,p)\n",
    "print(hex(r))\n"
   ]
  },
  {
   "cell_type": "code",
   "execution_count": 9,
   "metadata": {
    "vscode": {
     "languageId": "python"
    }
   },
   "outputs": [
    {
     "name": "stdout",
     "output_type": "stream",
     "text": [
      "0x70abdcbebe5cd20ed83dc1ea1e63f41adfd199a2b683d34821ff63e9c24b213c\n",
      "0x2fce10fff952829e1880f94dda3a5730bd013c5a6cbe0caf23e58a127fbdcfdf00\n",
      "0x70abdcbebe5cd20ed83dc1ea1e63f41adfd199a2b683d34821ff63e9c24b213c\n"
     ]
    }
   ],
   "source": [
    "p = 0xe92e40ad6f281c8a082afdc49e1372659455bec8ceea043a614c835b7fe9eff5\n",
    "n = 0x0fef5afffdc62b8a082afdc49e1372659455bec8ceea043a614c835b7fe9eff5\n",
    "c = 0x300\n",
    "res = (c*n)%p\n",
    "print(hex(res))\n",
    "\n",
    "mult = c*n\n",
    "print(hex(mult))\n",
    "\n",
    "red = mult % p\n",
    "print(hex(red))"
   ]
  },
  {
   "cell_type": "code",
   "execution_count": null,
   "metadata": {
    "vscode": {
     "languageId": "python"
    }
   },
   "outputs": [],
   "source": []
  }
 ],
 "metadata": {
  "kernelspec": {
   "display_name": "SageMath 10.4",
   "language": "sage",
   "name": "sagemath"
  },
  "language_info": {
   "codemirror_mode": {
    "name": "ipython",
    "version": 3
   },
   "file_extension": ".py",
   "mimetype": "text/x-python",
   "name": "sage",
   "nbconvert_exporter": "python",
   "pygments_lexer": "ipython3",
   "version": "3.12.7"
  }
 },
 "nbformat": 4,
 "nbformat_minor": 2
}
