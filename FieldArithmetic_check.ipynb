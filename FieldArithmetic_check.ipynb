{
 "cells": [
  {
   "cell_type": "code",
   "execution_count": null,
   "metadata": {},
   "outputs": [
    {
     "name": "stdout",
     "output_type": "stream",
     "text": [
      "The sum of a and b modulo p is: 0x1f0d781c18e044a21f4112d8b1258375b373dbe4ea041d527862986f92fc0105\n",
      "The sub of a and b modulo p is: 0xe85d02c98c7c0a1817161514131211101f1e1d1c1b1a19181716151413121110\n",
      "The mult of a and b modulo p is: 0x34a76467b6377582066b7014d1f70f07ed8f2934567ffc1fca7ab5fd45cd2b2e\n",
      "The inverse of a modulo p is: 0xae9b522f048de4c58246c569560c565a3bed48e3939314c8df6e60d2917e195f\n",
      "The div of a and b modulo p is: 0x67c1c974fd5803bc6b11642d035ac07f5297a87d47a0130e8ba44dda9e44de8e\n",
      "True\n"
     ]
    }
   ],
   "source": [
    "# Import SageMath modules\n",
    "from sage.all import *\n",
    "\n",
    "a = 0x0f1e1d1c1b1a191817161514131211101f1e1d1c1b1a19181716151413121110\n",
    "#b = 0x0fffffffffffffffffffffffffffffffffffffffffffffffffffffffffffffff\n",
    "b = 0x0fef5afffdc62b8a082afdc49e1372659455bec8ceea043a614c835b7fe9eff5\n",
    "\n",
    "#b = 0x111111111111111111\n",
    "# Define the prime field\n",
    "p = 0xe92e40ad6f281c8a082afdc49e1372659455bec8ceea043a614c835b7fe9eff5\n",
    "\n",
    "# Addition in the prime field\n",
    "sum = (a + b) % p\n",
    "sub = (a - b) % p\n",
    "mul = (a * b) % p\n",
    "inv = inverse_mod(a, p)\n",
    "div = (a / b) % p\n",
    "\n",
    "# Output the result\n",
    "print(f\"The sum of a and b modulo p is: {hex(sum)}\")\n",
    "print(f\"The sub of a and b modulo p is: {hex(sub)}\")\n",
    "print(f\"The mult of a and b modulo p is: {hex(mul)}\")\n",
    "print(f\"The inverse of a modulo p is: {hex(inv)}\")\n",
    "print(f\"The div of a and b modulo p is: {hex(div)}\")\n",
    "c= 0x67c1c974fd5803bc6b11642d035ac07f5297a87d47a0130e8ba44dda9e44de8e\n",
    "print(c == div)\n"
   ]
  },
  {
   "cell_type": "code",
   "execution_count": 14,
   "metadata": {},
   "outputs": [
    {
     "name": "stdout",
     "output_type": "stream",
     "text": [
      "0x1af78caf527ded67630132a433236c9243cc074842b442e90334bce9780e2aa2\n"
     ]
    }
   ],
   "source": [
    "p = 0xe92e40ad6f281c8a082afdc49e1372659455bec8ceea043a614c835b7fe9eff5\n",
    "n = 0x0f1e1d1c1b1a191817161514131211101f1e1d1c1b1a19181716151413121110\n",
    "b = 0x2\n",
    "r = pow(b,n,p)\n",
    "print(hex(r))\n"
   ]
  },
  {
   "cell_type": "code",
   "execution_count": 17,
   "metadata": {},
   "outputs": [
    {
     "name": "stdout",
     "output_type": "stream",
     "text": [
      "0x8b39114427974f76936537c930d9e9c5d8c12f8e2b78d471014cde5b137210b\n",
      "0xf1e1d1c1b1a191817161514131211101f1e1d1c1b1a191817161514131211100\n",
      "0x8b39114427974f76936537c930d9e9c5d8c12f8e2b78d471014cde5b137210b\n"
     ]
    }
   ],
   "source": [
    "p = 0xe92e40ad6f281c8a082afdc49e1372659455bec8ceea043a614c835b7fe9eff5\n",
    "n = 0x0f1e1d1c1b1a191817161514131211101f1e1d1c1b1a19181716151413121110\n",
    "res = (16*n)%p\n",
    "print(hex(res))\n",
    "\n",
    "mult = 16*n\n",
    "print(hex(mult))\n",
    "\n",
    "red = mult % p\n",
    "print(hex(red))"
   ]
  },
  {
   "cell_type": "code",
   "execution_count": null,
   "metadata": {},
   "outputs": [],
   "source": []
  }
 ],
 "metadata": {
  "kernelspec": {
   "display_name": "SageMath 10.4",
   "language": "sage",
   "name": "sagemath"
  },
  "language_info": {
   "codemirror_mode": {
    "name": "ipython",
    "version": 3
   },
   "file_extension": ".py",
   "mimetype": "text/x-python",
   "name": "python",
   "nbconvert_exporter": "python",
   "pygments_lexer": "ipython3",
   "version": "3.12.7"
  }
 },
 "nbformat": 4,
 "nbformat_minor": 2
}
