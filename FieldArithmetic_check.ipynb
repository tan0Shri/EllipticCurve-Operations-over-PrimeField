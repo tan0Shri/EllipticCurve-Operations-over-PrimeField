{
 "cells": [
  {
   "cell_type": "code",
   "execution_count": 1,
   "metadata": {
    "vscode": {
     "languageId": "python"
    }
   },
   "outputs": [
    {
     "name": "stdout",
     "output_type": "stream",
     "text": [
      "The sum of a and b modulo p is: 0x53ba582e57bf418ae4686e3fba1c7eefc0749f7edc7dd19a4ba477b98fea7bbe\n",
      "The sub of a and b modulo p is: 0x9da28750ec0a0cdeef2af50b00e84f1e608a6f8aecdbc4605649d4c96b68d4dc\n",
      "The mult of a and b modulo p is: 0x3b7ff86865616aff57b4d2de0f8e68950bee21326729b4dd487db6a8c6f0a5fa\n",
      "The inverse of a modulo p is: 0x1cf6b4fe39eb908d6798a63f1ceeab8f596ec25d39fe9f114642cb618c901544\n",
      "The div of a and b modulo p is: 0x276463815a64715fa0ef1f9b6bb65afbbde2946f63e4447bbbdb5584c64744cc\n",
      "False\n"
     ]
    }
   ],
   "source": [
    "# Import SageMath modules\n",
    "from sage.all import *\n",
    "\n",
    "b = 0x0c43a291c2502b6e002c9ba5efaad8a4e444ad6c2c6bb0ad75bf9d4d3922ac366\n",
    "#b = 0x0fffffffffffffffffffffffffffffffffffffffffffffffffffffffffffffff\n",
    "a = 0x078ae6fbfa1e4a734e9c9b1a55d826707107f8784e4accafd50f726417da9a84d\n",
    "\n",
    "#b = 0x111111111111111111\n",
    "# Define the prime field\n",
    "p = 0xe92e40ad6f281c8a082afdc49e1372659455bec8ceea043a614c835b7fe9eff5\n",
    "\n",
    "# Addition in the prime field\n",
    "sum = (a + b) % p\n",
    "sub = (a - b) % p\n",
    "mul = (a * b) % p\n",
    "inv = inverse_mod(a, p)\n",
    "div = (a / b) % p\n",
    "\n",
    "# Output the result\n",
    "print(f\"The sum of a and b modulo p is: {hex(sum)}\")\n",
    "print(f\"The sub of a and b modulo p is: {hex(sub)}\")\n",
    "print(f\"The mult of a and b modulo p is: {hex(mul)}\")\n",
    "print(f\"The inverse of a modulo p is: {hex(inv)}\")\n",
    "print(f\"The div of a and b modulo p is: {hex(div)}\")\n",
    "c= 0x67c1c974fd5803bc6b11642d035ac07f5297a87d47a0130e8ba44dda9e44de8e\n",
    "print(c == div)\n"
   ]
  },
  {
   "cell_type": "code",
   "execution_count": 2,
   "metadata": {
    "vscode": {
     "languageId": "python"
    }
   },
   "outputs": [
    {
     "name": "stdout",
     "output_type": "stream",
     "text": [
      "0xc07e4038b87688946eec1e605f9f0f59dc3f4f95c0bd8f41d39efdc0cb029580\n"
     ]
    }
   ],
   "source": [
    "p = 0xe92e40ad6f281c8a082afdc49e1372659455bec8ceea043a614c835b7fe9eff5\n",
    "n = 0x01b50014e06c430d5f5436db1aff38f2d9996c86afaf66dfc585f6ce9793af55b\n",
    "b = 0x2\n",
    "r = pow(b,n,p)\n",
    "print(hex(r))\n"
   ]
  },
  {
   "cell_type": "code",
   "execution_count": 9,
   "metadata": {
    "vscode": {
     "languageId": "python"
    }
   },
   "outputs": [
    {
     "name": "stdout",
     "output_type": "stream",
     "text": [
      "0x70abdcbebe5cd20ed83dc1ea1e63f41adfd199a2b683d34821ff63e9c24b213c\n",
      "0x2fce10fff952829e1880f94dda3a5730bd013c5a6cbe0caf23e58a127fbdcfdf00\n",
      "0x70abdcbebe5cd20ed83dc1ea1e63f41adfd199a2b683d34821ff63e9c24b213c\n"
     ]
    }
   ],
   "source": [
    "p = 0xe92e40ad6f281c8a082afdc49e1372659455bec8ceea043a614c835b7fe9eff5\n",
    "n = 0x0fef5afffdc62b8a082afdc49e1372659455bec8ceea043a614c835b7fe9eff5\n",
    "c = 0x300\n",
    "res = (c*n)%p\n",
    "print(hex(res))\n",
    "\n",
    "mult = c*n\n",
    "print(hex(mult))\n",
    "\n",
    "red = mult % p\n",
    "print(hex(red))"
   ]
  },
  {
   "cell_type": "code",
   "execution_count": null,
   "metadata": {
    "vscode": {
     "languageId": "python"
    }
   },
   "outputs": [],
   "source": []
  }
 ],
 "metadata": {
  "kernelspec": {
   "display_name": "SageMath 10.4",
   "language": "sage",
   "name": "sagemath"
  },
  "language_info": {
   "codemirror_mode": {
    "name": "ipython",
    "version": 3
   },
   "file_extension": ".py",
   "mimetype": "text/x-python",
   "name": "sage",
   "nbconvert_exporter": "python",
   "pygments_lexer": "ipython3",
   "version": "3.12.7"
  }
 },
 "nbformat": 4,
 "nbformat_minor": 2
}
