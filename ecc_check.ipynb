{
 "cells": [
  {
   "cell_type": "code",
   "execution_count": null,
   "metadata": {
    "vscode": {
     "languageId": "python"
    }
   },
   "outputs": [
    {
     "name": "stdout",
     "output_type": "stream",
     "text": [
      "Prime (p): 0xe92e40ad6f281c8a082afdc49e1372659455bec8ceea043a614c835b7fe9eff5\n",
      "Elliptic Curve: y^2 = x^3 + 3x + 0\n",
      "Number of points (#E): 0xe92e40ad6f281c8a082afdc49e137266651ce138c285cc47239635d7416673ba\n",
      "factors:  2 * 52735307536212003732388528503008556767657190107876112472110061406221923203549\n",
      "Largest prime order (n): 52735307536212003732388528503008556767657190107876112472110061406221923203549\n",
      "Cofactor (h): 2\n"
     ]
    }
   ],
   "source": [
    "# Import SageMath modules\n",
    "from sage.all import *\n",
    "\n",
    "# Given prime\n",
    "p = 0xe92e40ad6f281c8a082afdc49e1372659455bec8ceea043a614c835b7fe9eff5\n",
    "\n",
    "# Elliptic curve parameters (can adjust a, b as needed)\n",
    "a = 3\n",
    "b = 0\n",
    "\n",
    "# Define the elliptic curve over the finite field F_p\n",
    "E = EllipticCurve(GF(p), [a, b])\n",
    "\n",
    "# Compute the number of points on the curve\n",
    "num_points = E.cardinality()\n",
    "\n",
    "# Factorize the cardinality of the elliptic curve\n",
    "factors = factor(num_points)\n",
    "\n",
    "# Extract the largest prime factor\n",
    "n = max([factor[0] for factor in factors])\n",
    "\n",
    "# Compute the cofactor\n",
    "h = num_points // n\n",
    "\n",
    "# Print results\n",
    "print(\"Prime (p):\", hex(p))\n",
    "print(\"Elliptic Curve: y^2 = x^3 + {}x + {}\".format(a, b))\n",
    "print(\"Number of points (#E):\", hex(num_points))\n",
    "print(\"factors: \",factors)\n",
    "print(\"Largest prime order (n):\", n)\n",
    "print(\"Cofactor (h):\", h)\n"
   ]
  },
  {
   "cell_type": "code",
   "execution_count": 2,
   "metadata": {
    "vscode": {
     "languageId": "python"
    }
   },
   "outputs": [
    {
     "name": "stdout",
     "output_type": "stream",
     "text": [
      "Random points on the curve (in hexadecimal):\n",
      "Point 1: (x = 0x41fc41c30d9201cc6dd62a291406402a35d38f182d849a67f046b526654f1d0e, y = 0xaef501b3627995e0e62ff0d3723e9d972de7bb2c40f1c91b504639c15ad5d91b)\n",
      "Point 2: (x = 0xcd9d91993aba5d2b98c85330bc9a999d2375d0549a061c0b29c5454e35a41b29, y = 0x988e734f7e795567e01cffe9f9ad023d265ffc7b50da3c32963fd7b9ffa885e5)\n",
      "Point 3: (x = 0xd6aebad23b444ea64206babd2246da35c3f175e3133d34c1bbc8d43f2d47295b, y = 0x86dc37b8e81b5b64fdad39b8bdbccd12bc6520d7feba87b597b39a39c0a71971)\n",
      "Point 4: (x = 0x46281e9c9974a1ad1c7ca937ccfb2bf33b43e3e5d408aa37ffb28b2c7d6b0f21, y = 0xd1481744e1df7db42e60acc99e8840f0089b8172383e31f3f4d1ebdb7cdf8968)\n",
      "Point 5: (x = 0xa124bce098289b374162672fd115ba6eb66b00fc12d59e55623b6c3821a203e7, y = 0xa086f1b51e18970c079d5b161a15925a342485cd283ea4038104f02836141fc2)\n",
      "Point 6: (x = 0x2d62cabe12e917dd780be0e9932f35d907ae6accc6a082f620c076671ba197ea, y = 0x47258de751535d9a654593eeeac2a04ea50e801880349eb7e418e898c48e26df)\n",
      "Point 7: (x = 0xb5e7a51ceb73f56e8687534e37de2007de8e51595ac582f89277b72a603257b7, y = 0x9eb555e34ed3f6f2b38b7d40ced0bd5eef22cd71fba9dced192dac69c6373da8)\n",
      "Point 8: (x = 0x4e1af9f4b32b5443741dfc12323a00ab77391fcbbd0452eaf4d5592f10a87f11, y = 0xc4d8e4cb3647982ec7cfc7cefa2468fb251e2d700c1579c7ed88d8573f469e1f)\n",
      "Point 9: (x = 0xcdd45f4c4869d2725f39bfade506c3f27d4638b3a14cd3c6f27a1d52cb9aabd0, y = 0xd544b08139644805a8b75c88f49f9daaae25b76515818c0dc76991a25944a562)\n",
      "Point 10: (x = 0xdbc704ba84f082527076d57b0e871131d192ce9f97301d3a2f3185b2918d9a2e, y = 0xcc13f00d1ffad1e1bb060e04da0d04922790038c811ffecfde6ced6b52ef52c3)\n"
     ]
    }
   ],
   "source": [
    "p = 0xe92e40ad6f281c8a082afdc49e1372659455bec8ceea043a614c835b7fe9eff5\n",
    "F = GF(p)  # Finite field of order p\n",
    "a, b = 3, 0  # Coefficients of the elliptic curve\n",
    "E = EllipticCurve(F, [a, b])\n",
    "\n",
    "# Generate random points\n",
    "random_points = [E.random_point() for _ in range(10)]  # Generate 10 random points\n",
    "\n",
    "# Print the random points in hexadecimal format\n",
    "print(\"Random points on the curve (in hexadecimal):\")\n",
    "for i, point in enumerate(random_points, start=1):\n",
    "    x_hex = hex(point[0])  # Convert x-coordinate to hex\n",
    "    y_hex = hex(point[1])  # Convert y-coordinate to hex\n",
    "    print(f\"Point {i}: (x = {x_hex}, y = {y_hex})\")"
   ]
  },
  {
   "cell_type": "code",
   "execution_count": 4,
   "metadata": {
    "vscode": {
     "languageId": "python"
    }
   },
   "outputs": [
    {
     "name": "stdout",
     "output_type": "stream",
     "text": [
      "2P = (x = 0x2003b52b899ce6cb9ff68bf71449000c6cc3236792f265632bd673a5e9247d63, y = 0x6071b34ecf10b7a82e84a24b743db135512877370fee89fa13d0e92de9f0865e)\n",
      "P + Q = (x = 0x50bd7e072fdf0a6412afb885f35137ab4cb77f108ebf1587caf45462f6d896df, y = 0xadd4fa1595d2954388d533f19f00d9197b5f2d53559f0cb09bd6151954c86a5a)\n"
     ]
    }
   ],
   "source": [
    "x1 = 0x41fc41c30d9201cc6dd62a291406402a35d38f182d849a67f046b526654f1d0e\n",
    "y1 = 0xaef501b3627995e0e62ff0d3723e9d972de7bb2c40f1c91b504639c15ad5d91b\n",
    "\n",
    "x2 = 0xcd9d91993aba5d2b98c85330bc9a999d2375d0549a061c0b29c5454e35a41b29\n",
    "y2 = 0x988e734f7e795567e01cffe9f9ad023d265ffc7b50da3c32963fd7b9ffa885e5\n",
    "\n",
    "# Define points on the curve\n",
    "P = E([x1, y1])  # A point P(x, y) on the curve\n",
    "Q = E([x2, y2])   # Another point Q(x, y) on the curve\n",
    "\n",
    "# Point doubling (2P)\n",
    "dbl_P = 2 * P\n",
    "dbl_P_x, dbl_P_y = hex(dbl_P[0]), hex(dbl_P[1])  # Convert coordinates to hex\n",
    "print(f\"2P = (x = {dbl_P_x}, y = {dbl_P_y})\")\n",
    "\n",
    "# Point addition (P + Q)\n",
    "add_PQ = P + Q\n",
    "add_PQ_x, add_PQ_y = hex(add_PQ[0]), hex(add_PQ[1])  # Convert coordinates to hex\n",
    "print(f\"P + Q = (x = {add_PQ_x}, y = {add_PQ_y})\")\n"
   ]
  },
  {
   "cell_type": "code",
   "execution_count": null,
   "metadata": {
    "vscode": {
     "languageId": "python"
    }
   },
   "outputs": [],
   "source": []
  }
 ],
 "metadata": {
  "kernelspec": {
   "display_name": "SageMath 10.4",
   "language": "sage",
   "name": "sagemath"
  },
  "language_info": {
   "codemirror_mode": {
    "name": "ipython",
    "version": 3
   },
   "file_extension": ".py",
   "mimetype": "text/x-python",
   "name": "sage",
   "nbconvert_exporter": "python",
   "pygments_lexer": "ipython3",
   "version": "3.12.7"
  }
 },
 "nbformat": 4,
 "nbformat_minor": 2
}
