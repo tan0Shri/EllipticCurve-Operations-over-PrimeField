{
 "cells": [
  {
   "cell_type": "code",
   "execution_count": 11,
   "metadata": {},
   "outputs": [
    {
     "name": "stdout",
     "output_type": "stream",
     "text": [
      "Prime (p): 0xe92e40ad6f281c8a082afdc49e1372659455bec8ceea043a614c835b7fe9eff5\n",
      "Elliptic Curve: y^2 = x^3 + 3x + 0\n",
      "Number of points (#E): 0xe92e40ad6f281c8a082afdc49e137266651ce138c285cc47239635d7416673ba\n",
      "factors:  2 * 52735307536212003732388528503008556767657190107876112472110061406221923203549\n",
      "Largest prime order (n): 52735307536212003732388528503008556767657190107876112472110061406221923203549\n",
      "Cofactor (h): 2\n"
     ]
    }
   ],
   "source": [
    "# Import SageMath modules\n",
    "from sage.all import *\n",
    "\n",
    "# Given prime\n",
    "p = 0xe92e40ad6f281c8a082afdc49e1372659455bec8ceea043a614c835b7fe9eff5\n",
    "\n",
    "# Elliptic curve parameters (can adjust a, b as needed)\n",
    "a = 3\n",
    "b = 0\n",
    "\n",
    "# Define the elliptic curve over the finite field F_p\n",
    "E = EllipticCurve(GF(p), [a, b])\n",
    "\n",
    "# Compute the number of points on the curve\n",
    "num_points = E.cardinality()\n",
    "\n",
    "# Factorize the cardinality of the elliptic curve\n",
    "factors = factor(num_points)\n",
    "\n",
    "# Extract the largest prime factor\n",
    "n = max([factor[0] for factor in factors])\n",
    "\n",
    "# Compute the cofactor\n",
    "h = num_points // n\n",
    "\n",
    "# Print results\n",
    "print(\"Prime (p):\", hex(p))\n",
    "print(\"Elliptic Curve: y^2 = x^3 + {}x + {}\".format(a, b))\n",
    "print(\"Number of points (#E):\", hex(num_points))\n",
    "print(\"factors: \",factors)\n",
    "print(\"Largest prime order (n):\", n)\n",
    "print(\"Cofactor (h):\", h)\n"
   ]
  },
  {
   "cell_type": "code",
   "execution_count": 12,
   "metadata": {},
   "outputs": [
    {
     "name": "stdout",
     "output_type": "stream",
     "text": [
      "Random points on the curve (in hexadecimal):\n",
      "Point 1: (x = 0x9761ac55f43c6860caad2305ce5cf872cd4d16b8cdce68392be32db43a63e61d, y = 0xc9d695f8c1a739feb29c8f261bdb37f60e10932bafaaa09b1f887e56e5b7e3c6)\n",
      "Point 2: (x = 0x5d1f4c3f2f90c9cb30530c035095e17281e30d051f4661e0d282602c53cfd291, y = 0x267dfc605051fdbc434aa1314886c2a5ba8673b7e0b49ee4bd807e0d4d05a968)\n",
      "Point 3: (x = 0xc8e535483235d1b57f959d632b1c4cb7d8762475445210905bb321ab579a6ba, y = 0x6a2aad5f52fd0b2910392f38ec96b8d6f8f17740156d9ac18c7ec675c27d94be)\n",
      "Point 4: (x = 0xa7ff23e591ded680fef85f121014d3b0490a8985c289be096cf889bcefa4585c, y = 0x317b1759abbf43836b247d75fb975a8e2741dd4718ed3e60099816347de83f9b)\n",
      "Point 5: (x = 0x98549666bc8c7917cb61aff7a5377048b9a026dd2d6c6811c29b06c2670b9bec, y = 0x600fc0831ba68b5e265e28d713bec7ad9958a725e704e613500689ac05a7dcaa)\n",
      "Point 6: (x = 0x3891ba80208bf1d08784092e001c1996d6d232985687957823d197f27db7a9dd, y = 0x869c66b9be904aa5d9d988a4f3f392ef8a128e600e007c9455c02a1c922c3be8)\n",
      "Point 7: (x = 0x63346ca2f70bd6960a6f0087a4ed004a3fe6388a3aee9a2097c2ab5997c935a4, y = 0x18a02e0e35b4e7b6e7a1d807894453c94ac9bb99c008cfddde3deefdcd958cf5)\n",
      "Point 8: (x = 0xc47378f360e00d5f1dd44d3fc9bc17f2182ec81866efc046ba0ba298e0c0d8f, y = 0x18933b54ba190b2e972f2cddd2502cd50ac794ee1424a1557f7d27b00968e6d9)\n",
      "Point 9: (x = 0xba6d60c61370d4b9bad84a9fbe7b8456e244ef9498fd97f1421b14dd2f3b45b7, y = 0x5519e64f4e0df7726f31c735631ebbc27fa3c28d858ea5d37518d03d5dd2228c)\n",
      "Point 10: (x = 0x11e53734ed10f99b035a4d2a6163637637c883efe8d4841ac544bca61851d7d9, y = 0x77f87221fb46847fe2e669d755c3ceb314a3a47c7e374ed3f7594c4a0dc2ec69)\n"
     ]
    }
   ],
   "source": [
    "p = 0xe92e40ad6f281c8a082afdc49e1372659455bec8ceea043a614c835b7fe9eff5\n",
    "F = GF(p)  # Finite field of order p\n",
    "a, b = 3, 0  # Coefficients of the elliptic curve\n",
    "E = EllipticCurve(F, [a, b])\n",
    "\n",
    "# Generate random points\n",
    "random_points = [E.random_point() for _ in range(10)]  # Generate 10 random points\n",
    "\n",
    "# Print the random points in hexadecimal format\n",
    "print(\"Random points on the curve (in hexadecimal):\")\n",
    "for i, point in enumerate(random_points, start=1):\n",
    "    x_hex = hex(point[0])  # Convert x-coordinate to hex\n",
    "    y_hex = hex(point[1])  # Convert y-coordinate to hex\n",
    "    print(f\"Point {i}: (x = {x_hex}, y = {y_hex})\")"
   ]
  },
  {
   "cell_type": "code",
   "execution_count": 13,
   "metadata": {},
   "outputs": [
    {
     "name": "stdout",
     "output_type": "stream",
     "text": [
      "2P = (x = 0xc43a291c2502b6e002c9ba5efaad8a4e444ad6c2c6bb0ad75bf9d4d3922ac366, y = 0x9e0bcdf02d52f574d66eb23757256bd6757b4400149b2bdaedfcf88f0ca56a1c)\n",
      "P + Q = (x = 0x53367f571bc01e3e9087ca1bdfb710d71a936865ba196985c31783f8fb42c8e, y = 0x87c9b02507b6f4c6edbefa1d28c29856ab418c05841229abf6de87b759f58f3b)\n",
      "sP = (x = 0x8b50014e06c430d5f5436db1aff38f2d9996c86afaf66dfc585f6ce9793af55b, y = 0x1b3013ae3d5b496cd9d1c86ca3a4c93088e36220965dae7bf0ae0621fbd6c8f7)\n"
     ]
    }
   ],
   "source": [
    "x2 = 0x41fc41c30d9201cc6dd62a291406402a35d38f182d849a67f046b526654f1d0e\n",
    "y2 = 0xaef501b3627995e0e62ff0d3723e9d972de7bb2c40f1c91b504639c15ad5d91b\n",
    "\n",
    "x1 = 0x35e7a27c695b70b882189a889fe29a1718445965f240e7b126c493b751289a8d\n",
    "y1 = 0x14d74e7250bd75b73f2a9633bfabb3c13e2a69ffe9281ea5550eba554560be8d\n",
    "#x2 = 0xcd9d91993aba5d2b98c85330bc9a999d2375d0549a061c0b29c5454e35a41b29\n",
    "#y2 = 0x988e734f7e795567e01cffe9f9ad023d265ffc7b50da3c32963fd7b9ffa885e5\n",
    "\n",
    "# Define points on the curve\n",
    "P = E([x1, y1])  # A point P(x, y) on the curve\n",
    "Q = E([x2, y2])   # Another point Q(x, y) on the curve\n",
    "\n",
    "# Point doubling (2P)\n",
    "dbl_P = 2 * P\n",
    "dbl_P_x, dbl_P_y = hex(dbl_P[0]), hex(dbl_P[1])  # Convert coordinates to hex\n",
    "print(f\"2P = (x = {dbl_P_x}, y = {dbl_P_y})\")\n",
    "\n",
    "# Point addition (P + Q)\n",
    "add_PQ = P + Q\n",
    "add_PQ_x, add_PQ_y = hex(add_PQ[0]), hex(add_PQ[1])  # Convert coordinates to hex\n",
    "print(f\"P + Q = (x = {add_PQ_x}, y = {add_PQ_y})\")\n",
    "\n",
    "s = 0x0f1e1d1c1b1a191817161514131211101f1e1d1c1b1a19181716151413121110\n",
    "sMult = s*P\n",
    "sMult_x, sMult_y = hex(sMult[0]), hex(sMult[1])\n",
    "print(f\"sP = (x = {sMult_x}, y = {sMult_y})\")\n"
   ]
  },
  {
   "cell_type": "code",
   "execution_count": null,
   "metadata": {},
   "outputs": [],
   "source": []
  }
 ],
 "metadata": {
  "kernelspec": {
   "display_name": "SageMath 10.4",
   "language": "sage",
   "name": "sagemath"
  },
  "language_info": {
   "codemirror_mode": {
    "name": "ipython",
    "version": 3
   },
   "file_extension": ".py",
   "mimetype": "text/x-python",
   "name": "python",
   "nbconvert_exporter": "python",
   "pygments_lexer": "ipython3",
   "version": "3.12.7"
  }
 },
 "nbformat": 4,
 "nbformat_minor": 2
}
