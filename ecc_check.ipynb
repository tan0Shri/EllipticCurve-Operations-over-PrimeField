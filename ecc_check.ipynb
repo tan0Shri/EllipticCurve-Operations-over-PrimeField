{
 "cells": [
  {
   "cell_type": "code",
   "execution_count": 2,
   "metadata": {},
   "outputs": [
    {
     "name": "stdout",
     "output_type": "stream",
     "text": [
      "Prime (p): 0xe92e40ad6f281c8a082afdc49e1372659455bec8ceea043a614c835b7fe9eff5\n",
      "Elliptic Curve: y^2 = x^3 + 3x + 0\n",
      "Number of points (#E): 0xe92e40ad6f281c8a082afdc49e137266651ce138c285cc47239635d7416673ba\n",
      "factors:  2 * 52735307536212003732388528503008556767657190107876112472110061406221923203549\n",
      "Largest prime order (n): 52735307536212003732388528503008556767657190107876112472110061406221923203549\n",
      "Cofactor (h): 2\n"
     ]
    }
   ],
   "source": [
    "# Import SageMath modules\n",
    "from sage.all import *\n",
    "\n",
    "# Given prime\n",
    "p = 0xe92e40ad6f281c8a082afdc49e1372659455bec8ceea043a614c835b7fe9eff5\n",
    "\n",
    "# Elliptic curve parameters (can adjust a, b as needed)\n",
    "a = 3\n",
    "b = 0\n",
    "\n",
    "# Define the elliptic curve over the finite field F_p\n",
    "E = EllipticCurve(GF(p), [a, b])\n",
    "\n",
    "# Compute the number of points on the curve\n",
    "num_points = E.cardinality()\n",
    "\n",
    "# Factorize the cardinality of the elliptic curve\n",
    "factors = factor(num_points)\n",
    "\n",
    "# Extract the largest prime factor\n",
    "n = max([factor[0] for factor in factors])\n",
    "\n",
    "# Compute the cofactor\n",
    "h = num_points // n\n",
    "\n",
    "# Print results\n",
    "print(\"Prime (p):\", hex(p))\n",
    "print(\"Elliptic Curve: y^2 = x^3 + {}x + {}\".format(a, b))\n",
    "print(\"Number of points (#E):\", hex(num_points))\n",
    "print(\"factors: \",factors)\n",
    "print(\"Largest prime order (n):\", n)\n",
    "print(\"Cofactor (h):\", h)\n"
   ]
  },
  {
   "cell_type": "code",
   "execution_count": 3,
   "metadata": {},
   "outputs": [
    {
     "name": "stdout",
     "output_type": "stream",
     "text": [
      "Random points on the curve (in hexadecimal):\n",
      "Point 1: (x = 0xd85230b6111b170ed06ce184ae5c0e5b92bcedfd6d7df309174ab13287339de0, y = 0x3cc120f439cea6f321c3bc6da8ecc67be41c27509e4a81562da68c567a4da2e4)\n",
      "Point 2: (x = 0xe2e3ccb829b104224db3a3ee63c16e4a154a5807fd49177f1e8dda186432a08, y = 0x173d03eab3082d2d1fc79ccda6e28561129634de0c58c31e99086371319b1544)\n",
      "Point 3: (x = 0x5abf8748df628222e8616ffb9cc14ba4f7c2a434bf8d9929c528b57c44c79c76, y = 0x5177920e38e1d582a0e4e627e08b6f27d5d63eda2f0e488b1477cc243bbedd7f)\n",
      "Point 4: (x = 0x5e925ddcb60571fd3c1cfab87cf6b5190505ecc0bc026f673e245fa00cf7f71f, y = 0x349486b1f5f07b0b272c520b19fc6d690cd226bcd67197934382cb29d761f48e)\n",
      "Point 5: (x = 0x30a63bc766441613d535abba44c37d3eccde640aee15dda94d3ab408486f78b7, y = 0xa917838ed504ced6a99a217591b31500f7aa46f2e8a36aaef169c483e2dac91c)\n",
      "Point 6: (x = 0x83ece01303caf1172667cd7fe77eb9902c979aded3195a2526f4d591be6acede, y = 0x150668e9d0ae34856e407c2e6d3670a890756d80588bf2175f909ab6a1c1b3fc)\n",
      "Point 7: (x = 0x81c94ce2c1ce8afa81341bf952fae3cce49f09c3329ca4b2519fc7654966c239, y = 0x6f33fc950bb142d262b17b733c8a3f39acd66033cead5402ec73e631432a39d)\n",
      "Point 8: (x = 0xc2be966e08f4473c5c35db9f353c90f0eb15c41a82e2f71f7c6f60050eb77b2a, y = 0x34944995654538b09b8b9eb479e2f08516ce80a0c9625aecde4a2e647de60745)\n",
      "Point 9: (x = 0x3736d9158fcabfff44317373030330ee391fff1059476638316e54977cf53239, y = 0x4aacd3853eec6df71818ab1a052cb361b4b6614e85057c766c4a5d30206966bb)\n",
      "Point 10: (x = 0x8afb4ea73634ebfb65e0651f2f5b12695b53e550689d005acea956d1143d7b55, y = 0xda0b6250cc0a2d54ec0f03445215244fa5d35e465a46fbdc601dfa971e47e3af)\n"
     ]
    }
   ],
   "source": [
    "p = 0xe92e40ad6f281c8a082afdc49e1372659455bec8ceea043a614c835b7fe9eff5\n",
    "F = GF(p)  # Finite field of order p\n",
    "a, b = 3, 0  # Coefficients of the elliptic curve\n",
    "E = EllipticCurve(F, [a, b])\n",
    "\n",
    "# Generate random points\n",
    "random_points = [E.random_point() for _ in range(10)]  # Generate 10 random points\n",
    "\n",
    "# Print the random points in hexadecimal format\n",
    "print(\"Random points on the curve (in hexadecimal):\")\n",
    "for i, point in enumerate(random_points, start=1):\n",
    "    x_hex = hex(point[0])  # Convert x-coordinate to hex\n",
    "    y_hex = hex(point[1])  # Convert y-coordinate to hex\n",
    "    print(f\"Point {i}: (x = {x_hex}, y = {y_hex})\")"
   ]
  },
  {
   "cell_type": "code",
   "execution_count": 2,
   "metadata": {},
   "outputs": [
    {
     "ename": "GAPError",
     "evalue": "Error, E: <n> must be a positive small integer (not a plain list of cyclotomics)",
     "output_type": "error",
     "traceback": [
      "\u001b[0;31m---------------------------------------------------------------------------\u001b[0m",
      "\u001b[0;31mGAPError\u001b[0m                                  Traceback (most recent call last)",
      "Cell \u001b[0;32mIn[2], line 10\u001b[0m\n\u001b[1;32m      7\u001b[0m y2 \u001b[38;5;241m=\u001b[39m Integer(\u001b[38;5;241m0x988e734f7e795567e01cffe9f9ad023d265ffc7b50da3c32963fd7b9ffa885e5\u001b[39m)\n\u001b[1;32m      9\u001b[0m \u001b[38;5;66;03m# Define points on the curve\u001b[39;00m\n\u001b[0;32m---> 10\u001b[0m P \u001b[38;5;241m=\u001b[39m \u001b[43mE\u001b[49m\u001b[43m(\u001b[49m\u001b[43m[\u001b[49m\u001b[43mx1\u001b[49m\u001b[43m,\u001b[49m\u001b[43m \u001b[49m\u001b[43my1\u001b[49m\u001b[43m]\u001b[49m\u001b[43m)\u001b[49m  \u001b[38;5;66;03m# A point P(x, y) on the curve\u001b[39;00m\n\u001b[1;32m     11\u001b[0m Q \u001b[38;5;241m=\u001b[39m E([x2, y2])   \u001b[38;5;66;03m# Another point Q(x, y) on the curve\u001b[39;00m\n\u001b[1;32m     13\u001b[0m \u001b[38;5;66;03m# Point doubling (2P)\u001b[39;00m\n",
      "File \u001b[0;32m~/miniforge3/envs/sage/lib/python3.12/site-packages/sage/rings/universal_cyclotomic_field.py:1740\u001b[0m, in \u001b[0;36mE\u001b[0;34m(n, k)\u001b[0m\n\u001b[1;32m   1728\u001b[0m \u001b[38;5;28;01mdef\u001b[39;00m \u001b[38;5;21mE\u001b[39m(n, k\u001b[38;5;241m=\u001b[39m\u001b[38;5;241m1\u001b[39m):\n\u001b[1;32m   1729\u001b[0m \u001b[38;5;250m    \u001b[39m\u001b[38;5;124mr\u001b[39m\u001b[38;5;124;03m\"\"\"\u001b[39;00m\n\u001b[1;32m   1730\u001b[0m \u001b[38;5;124;03m    Return the ``n``-th root of unity as an element of the universal cyclotomic\u001b[39;00m\n\u001b[1;32m   1731\u001b[0m \u001b[38;5;124;03m    field.\u001b[39;00m\n\u001b[0;32m   (...)\u001b[0m\n\u001b[1;32m   1738\u001b[0m \u001b[38;5;124;03m        -E(15)^2 - 2*E(15)^8 - E(15)^11 - E(15)^13 - E(15)^14\u001b[39;00m\n\u001b[1;32m   1739\u001b[0m \u001b[38;5;124;03m    \"\"\"\u001b[39;00m\n\u001b[0;32m-> 1740\u001b[0m     \u001b[38;5;28;01mreturn\u001b[39;00m \u001b[43mUniversalCyclotomicField\u001b[49m\u001b[43m(\u001b[49m\u001b[43m)\u001b[49m\u001b[38;5;241;43m.\u001b[39;49m\u001b[43mgen\u001b[49m\u001b[43m(\u001b[49m\u001b[43mn\u001b[49m\u001b[43m,\u001b[49m\u001b[43m \u001b[49m\u001b[43mk\u001b[49m\u001b[43m)\u001b[49m\n",
      "File \u001b[0;32m~/miniforge3/envs/sage/lib/python3.12/site-packages/sage/rings/universal_cyclotomic_field.py:1450\u001b[0m, in \u001b[0;36mUniversalCyclotomicField.gen\u001b[0;34m(self, n, k)\u001b[0m\n\u001b[1;32m   1429\u001b[0m \u001b[38;5;28;01mdef\u001b[39;00m \u001b[38;5;21mgen\u001b[39m(\u001b[38;5;28mself\u001b[39m, n, k\u001b[38;5;241m=\u001b[39m\u001b[38;5;241m1\u001b[39m):\n\u001b[1;32m   1430\u001b[0m \u001b[38;5;250m    \u001b[39m\u001b[38;5;124mr\u001b[39m\u001b[38;5;124;03m\"\"\"\u001b[39;00m\n\u001b[1;32m   1431\u001b[0m \u001b[38;5;124;03m    Return the standard primitive ``n``-th root of unity.\u001b[39;00m\n\u001b[1;32m   1432\u001b[0m \n\u001b[0;32m   (...)\u001b[0m\n\u001b[1;32m   1448\u001b[0m \u001b[38;5;124;03m        -E(3)^2\u001b[39;00m\n\u001b[1;32m   1449\u001b[0m \u001b[38;5;124;03m    \"\"\"\u001b[39;00m\n\u001b[0;32m-> 1450\u001b[0m     \u001b[38;5;28;01mreturn\u001b[39;00m \u001b[38;5;28mself\u001b[39m\u001b[38;5;241m.\u001b[39melement_class(\u001b[38;5;28mself\u001b[39m, \u001b[43mlibgap\u001b[49m\u001b[38;5;241;43m.\u001b[39;49m\u001b[43mE\u001b[49m\u001b[43m(\u001b[49m\u001b[43mn\u001b[49m\u001b[43m)\u001b[49m\u001b[38;5;241m*\u001b[39m\u001b[38;5;241m*\u001b[39mk)\n",
      "File \u001b[0;32m~/miniforge3/envs/sage/lib/python3.12/site-packages/sage/libs/gap/element.pyx:2507\u001b[0m, in \u001b[0;36msage.libs.gap.element.GapElement_Function.__call__ (build/cythonized/sage/libs/gap/element.c:26327)\u001b[0;34m()\u001b[0m\n\u001b[1;32m   2505\u001b[0m try:\n\u001b[1;32m   2506\u001b[0m     sig_GAP_Enter()\n\u001b[0;32m-> 2507\u001b[0m     sig_on()\n\u001b[1;32m   2508\u001b[0m     if n == 0:\n\u001b[1;32m   2509\u001b[0m         result = GAP_CallFunc0Args(self.value)\n",
      "\u001b[0;31mGAPError\u001b[0m: Error, E: <n> must be a positive small integer (not a plain list of cyclotomics)"
     ]
    }
   ],
   "source": [
    "x2 = 0x41fc41c30d9201cc6dd62a291406402a35d38f182d849a67f046b526654f1d0e\n",
    "y2 = 0xaef501b3627995e0e62ff0d3723e9d972de7bb2c40f1c91b504639c15ad5d91b\n",
    "\n",
    "x1 = 0x0\n",
    "y1 = 0x0\n",
    "x2 = 0xcd9d91993aba5d2b98c85330bc9a999d2375d0549a061c0b29c5454e35a41b29\n",
    "y2 = 0x988e734f7e795567e01cffe9f9ad023d265ffc7b50da3c32963fd7b9ffa885e5\n",
    "\n",
    "# Define points on the curve\n",
    "P = E([x1, y1])  # A point P(x, y) on the curve\n",
    "Q = E([x2, y2])   # Another point Q(x, y) on the curve\n",
    "\n",
    "# Point doubling (2P)\n",
    "dbl_P = 2 * P\n",
    "dbl_P_x, dbl_P_y = hex(dbl_P[0]), hex(dbl_P[1])  # Convert coordinates to hex\n",
    "print(f\"2P = (x = {dbl_P_x}, y = {dbl_P_y})\")\n",
    "\n",
    "# Point addition (P + Q)\n",
    "add_PQ = P + Q\n",
    "add_PQ_x, add_PQ_y = hex(add_PQ[0]), hex(add_PQ[1])  # Convert coordinates to hex\n",
    "print(f\"P + Q = (x = {add_PQ_x}, y = {add_PQ_y})\")\n",
    "\n",
    "s = 0x0f1e1d1c1b1a191817161514131211101f1e1d1c1b1a19181716151413121110\n",
    "sMult = s*P\n",
    "sMult_x, sMult_y = hex(sMult[0]), hex(sMult[1])\n",
    "print(f\"sP = (x = {sMult_x}, y = {sMult_y})\")\n"
   ]
  },
  {
   "cell_type": "code",
   "execution_count": null,
   "metadata": {},
   "outputs": [],
   "source": []
  }
 ],
 "metadata": {
  "kernelspec": {
   "display_name": "SageMath 10.4",
   "language": "sage",
   "name": "sagemath"
  },
  "language_info": {
   "codemirror_mode": {
    "name": "ipython",
    "version": 3
   },
   "file_extension": ".py",
   "mimetype": "text/x-python",
   "name": "python",
   "nbconvert_exporter": "python",
   "pygments_lexer": "ipython3",
   "version": "3.12.7"
  }
 },
 "nbformat": 4,
 "nbformat_minor": 2
}
