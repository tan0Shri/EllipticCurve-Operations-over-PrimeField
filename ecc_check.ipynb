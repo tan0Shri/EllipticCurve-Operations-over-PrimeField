{
 "cells": [
  {
   "cell_type": "code",
   "execution_count": 5,
   "metadata": {},
   "outputs": [
    {
     "name": "stdout",
     "output_type": "stream",
     "text": [
      "Prime (p): 0xe92e40ad6f281c8a082afdc49e1372659455bec8ceea043a614c835b7fe9eff5\n",
      "Elliptic Curve: y^2 = x^3 + 3x + 0\n",
      "Number of points (#E): 0xe92e40ad6f281c8a082afdc49e137266651ce138c285cc47239635d7416673ba\n",
      "factors:  2 * 52735307536212003732388528503008556767657190107876112472110061406221923203549\n",
      "Largest prime order (n): 52735307536212003732388528503008556767657190107876112472110061406221923203549\n",
      "Cofactor (h): 2\n"
     ]
    }
   ],
   "source": [
    "# Import SageMath modules\n",
    "from sage.all import *\n",
    "\n",
    "# Given prime\n",
    "p = 0xe92e40ad6f281c8a082afdc49e1372659455bec8ceea043a614c835b7fe9eff5\n",
    "\n",
    "# Elliptic curve parameters (can adjust a, b as needed)\n",
    "a = 3\n",
    "b = 0\n",
    "\n",
    "# Define the elliptic curve over the finite field F_p\n",
    "E = EllipticCurve(GF(p), [a, b])\n",
    "\n",
    "# Compute the number of points on the curve\n",
    "num_points = E.cardinality()\n",
    "\n",
    "# Factorize the cardinality of the elliptic curve\n",
    "factors = factor(num_points)\n",
    "\n",
    "# Extract the largest prime factor\n",
    "n = max([factor[0] for factor in factors])\n",
    "\n",
    "# Compute the cofactor\n",
    "h = num_points // n\n",
    "\n",
    "# Print results\n",
    "print(\"Prime (p):\", hex(p))\n",
    "print(\"Elliptic Curve: y^2 = x^3 + {}x + {}\".format(a, b))\n",
    "print(\"Number of points (#E):\", hex(num_points))\n",
    "print(\"factors: \",factors)\n",
    "print(\"Largest prime order (n):\", n)\n",
    "print(\"Cofactor (h):\", h)\n"
   ]
  },
  {
   "cell_type": "code",
   "execution_count": 6,
   "metadata": {},
   "outputs": [
    {
     "name": "stdout",
     "output_type": "stream",
     "text": [
      "Random points on the curve (in hexadecimal):\n",
      "Point 1: (x = 0xb9bd41b520d6664783cba7b277fea563b40eac8b9446e92e97f0f224ee4a745c, y = 0x2c0e24c42f7b2d4e09697d2625d5c43a32a82bec96ab23e7dc8f1132217ac3fd)\n",
      "Point 2: (x = 0x39940d40cdade0218641b7623e3679eb1b03480cfc1914968f8c492cf6d06024, y = 0x34b4ec44f04fdc99924ca6ac9ab3ba636445fcf72f4e49c2e7b75b56d9802f2f)\n",
      "Point 3: (x = 0x7c309f3afd507acf794c105bebb681bc35feb3f3b9d7f13da131ba2d2fba9f23, y = 0xab2e5b9054014c9cc2f3b4f3ad69c5e3fe611f883f3179b6cadfce8e229d95db)\n",
      "Point 4: (x = 0x35e7a27c695b70b882189a889fe29a1718445965f240e7b126c493b751289a8d, y = 0x14d74e7250bd75b73f2a9633bfabb3c13e2a69ffe9281ea5550eba554560be8d)\n",
      "Point 5: (x = 0x4d91ee4b9e1965d1d75f5b637d49290eb8d045ef116fad5fdb103feb6986cfe5, y = 0x66c97b204a577a1595968c4f27e9a9470dc1878831a94b08763bc951a2cbe0b)\n",
      "Point 6: (x = 0xd11f51beff30e4ff7d16189635180d5e6f9eb8d1a51144c9c223d002876f3143, y = 0x4bbaf362f1265650cc3c324f9bab6907556e494f25c0fe0d846dc95e893ec201)\n",
      "Point 7: (x = 0x14be5a2a43de830bd9163a7ef3c64e22ab9f1e8558057315757cec74ee00abb5, y = 0x3099ffa71698b7ddbe611ff24abee384460f874549f23ccac7a136b0baba4925)\n",
      "Point 8: (x = 0xe36b5add68e5b830a1b6e82e0a7f6f14ee7c290088142fbe6e62a09f3a1ac7df, y = 0xd7c691a6eb51d43e77c2ab681ff656b762be7ccde36928d9a866e8aea516c60)\n",
      "Point 9: (x = 0x5d0093c06c644cbf13561a82f53bcb4a29199aa160834c1cd8e7ca96805df773, y = 0xb49e4f3d931135f72d164520df86e7bf704b72c45d5fbae6e4a9015e0aba7e9b)\n",
      "Point 10: (x = 0xc3dbf3c7cc4a14fb07ff70aed80f53e57ef422135a8345e9331ee6bd1ce6a607, y = 0x9dc32ce5992fa4320542f0812083c3bc76b72bffb9ff0b29e0c0882dde561d50)\n"
     ]
    }
   ],
   "source": [
    "p = 0xe92e40ad6f281c8a082afdc49e1372659455bec8ceea043a614c835b7fe9eff5\n",
    "F = GF(p)  # Finite field of order p\n",
    "a, b = 3, 0  # Coefficients of the elliptic curve\n",
    "E = EllipticCurve(F, [a, b])\n",
    "\n",
    "# Generate random points\n",
    "random_points = [E.random_point() for _ in range(10)]  # Generate 10 random points\n",
    "\n",
    "# Print the random points in hexadecimal format\n",
    "print(\"Random points on the curve (in hexadecimal):\")\n",
    "for i, point in enumerate(random_points, start=1):\n",
    "    x_hex = hex(point[0])  # Convert x-coordinate to hex\n",
    "    y_hex = hex(point[1])  # Convert y-coordinate to hex\n",
    "    print(f\"Point {i}: (x = {x_hex}, y = {y_hex})\")"
   ]
  },
  {
   "cell_type": "code",
   "execution_count": 10,
   "metadata": {},
   "outputs": [
    {
     "name": "stdout",
     "output_type": "stream",
     "text": [
      "2P = (x = 0xc43a291c2502b6e002c9ba5efaad8a4e444ad6c2c6bb0ad75bf9d4d3922ac366, y = 0x9e0bcdf02d52f574d66eb23757256bd6757b4400149b2bdaedfcf88f0ca56a1c)\n",
      "P + Q = (x = 0x53367f571bc01e3e9087ca1bdfb710d71a936865ba196985c31783f8fb42c8e, y = 0x87c9b02507b6f4c6edbefa1d28c29856ab418c05841229abf6de87b759f58f3b)\n",
      "sP = (x = 0x8b50014e06c430d5f5436db1aff38f2d9996c86afaf66dfc585f6ce9793af55b, y = 0x1b3013ae3d5b496cd9d1c86ca3a4c93088e36220965dae7bf0ae0621fbd6c8f7)\n"
     ]
    }
   ],
   "source": [
    "x2 = 0x41fc41c30d9201cc6dd62a291406402a35d38f182d849a67f046b526654f1d0e\n",
    "y2 = 0xaef501b3627995e0e62ff0d3723e9d972de7bb2c40f1c91b504639c15ad5d91b\n",
    "\n",
    "x1 = 0x35e7a27c695b70b882189a889fe29a1718445965f240e7b126c493b751289a8d\n",
    "y1 = 0x14d74e7250bd75b73f2a9633bfabb3c13e2a69ffe9281ea5550eba554560be8d\n",
    "#x2 = 0xcd9d91993aba5d2b98c85330bc9a999d2375d0549a061c0b29c5454e35a41b29\n",
    "#y2 = 0x988e734f7e795567e01cffe9f9ad023d265ffc7b50da3c32963fd7b9ffa885e5\n",
    "\n",
    "# Define points on the curve\n",
    "P = E([x1, y1])  # A point P(x, y) on the curve\n",
    "Q = E([x2, y2])   # Another point Q(x, y) on the curve\n",
    "\n",
    "# Point doubling (2P)\n",
    "dbl_P = 2 * P\n",
    "dbl_P_x, dbl_P_y = hex(dbl_P[0]), hex(dbl_P[1])  # Convert coordinates to hex\n",
    "print(f\"2P = (x = {dbl_P_x}, y = {dbl_P_y})\")\n",
    "\n",
    "# Point addition (P + Q)\n",
    "add_PQ = P + Q\n",
    "add_PQ_x, add_PQ_y = hex(add_PQ[0]), hex(add_PQ[1])  # Convert coordinates to hex\n",
    "print(f\"P + Q = (x = {add_PQ_x}, y = {add_PQ_y})\")\n",
    "\n",
    "s = 0x0f1e1d1c1b1a191817161514131211101f1e1d1c1b1a19181716151413121110\n",
    "sMult = s*P\n",
    "sMult_x, sMult_y = hex(sMult[0]), hex(sMult[1])\n",
    "print(f\"sP = (x = {sMult_x}, y = {sMult_y})\")\n"
   ]
  },
  {
   "cell_type": "code",
   "execution_count": null,
   "metadata": {},
   "outputs": [],
   "source": []
  }
 ],
 "metadata": {
  "kernelspec": {
   "display_name": "SageMath 10.4",
   "language": "sage",
   "name": "sagemath"
  },
  "language_info": {
   "codemirror_mode": {
    "name": "ipython",
    "version": 3
   },
   "file_extension": ".py",
   "mimetype": "text/x-python",
   "name": "python",
   "nbconvert_exporter": "python",
   "pygments_lexer": "ipython3",
   "version": "3.12.7"
  }
 },
 "nbformat": 4,
 "nbformat_minor": 2
}
