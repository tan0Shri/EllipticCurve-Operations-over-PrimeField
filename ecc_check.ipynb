{
 "cells": [
  {
   "cell_type": "code",
   "execution_count": 4,
   "metadata": {},
   "outputs": [
    {
     "name": "stdout",
     "output_type": "stream",
     "text": [
      "Found parameters:\n",
      "a = 1\n",
      "b = 113\n",
      "Elliptic Curve: y^2 = x^3 + 1x + 113\n",
      "Number of points (#E): 0xe92e40ad6f281c8a082afdc49e13726654ed7556486962d2f7571dd7ed27dcc9\n"
     ]
    }
   ],
   "source": [
    "from sage.all import *\n",
    "\n",
    "# Given prime\n",
    "p = 0xe92e40ad6f281c8a082afdc49e1372659455bec8ceea043a614c835b7fe9eff5\n",
    "\n",
    "# Create the finite field GF(p)\n",
    "F = GF(p)\n",
    "\n",
    "# Hasse bound for cardinality range\n",
    "lower_bound = p + 1 - 2 * int(p**0.5)\n",
    "upper_bound = p + 1 + 2 * int(p**0.5)\n",
    "\n",
    "# Efficient search for a, b\n",
    "found = False\n",
    "\n",
    "for a in range(1, 256):  # Iterate over a limited range\n",
    "    for b in range(1, 256):  # Iterate over b in the same range\n",
    "        if 4 * a^3 + 27 * b^2 == 0:  # Skip singular curves\n",
    "            continue\n",
    "\n",
    "        # Define the elliptic curve\n",
    "        E = EllipticCurve(F, [a, b])\n",
    "        \n",
    "        # Compute the number of points\n",
    "        num_points = E.cardinality()\n",
    "        \n",
    "        # Check if the cardinality is prime\n",
    "        if is_prime(num_points):\n",
    "            print(\"Found parameters:\")\n",
    "            print(\"a =\", a)\n",
    "            print(\"b =\", b)\n",
    "            print(\"Elliptic Curve: y^2 = x^3 + {}x + {}\".format(a, b))\n",
    "            print(\"Number of points (#E):\", hex(num_points))\n",
    "            found = True\n",
    "            break\n",
    "    if found:\n",
    "        break\n",
    "\n",
    "if not found:\n",
    "    print(\"No parameters (a, b) found with cofactor h = 1.\")\n"
   ]
  },
  {
   "cell_type": "code",
   "execution_count": 5,
   "metadata": {},
   "outputs": [
    {
     "name": "stdout",
     "output_type": "stream",
     "text": [
      "a =  0x1\n",
      "b =  0x71\n",
      "Prime (p): 0xe92e40ad6f281c8a082afdc49e1372659455bec8ceea043a614c835b7fe9eff5\n",
      "Elliptic Curve: y^2 = x^3 + 1x + 113\n",
      "Number of points (#E): 0xe92e40ad6f281c8a082afdc49e13726654ed7556486962d2f7571dd7ed27dcc9\n",
      "factors:  105470615072424007464777057006017113535292866341706131315290000692344097594569\n",
      "Largest prime order (n): 105470615072424007464777057006017113535292866341706131315290000692344097594569\n",
      "Cofactor (h): 1\n"
     ]
    }
   ],
   "source": [
    "# Import SageMath modules\n",
    "from sage.all import *\n",
    "\n",
    "# Given prime\n",
    "p = 0xe92e40ad6f281c8a082afdc49e1372659455bec8ceea043a614c835b7fe9eff5\n",
    "\n",
    "# Elliptic curve parameters (can adjust a, b as needed)\n",
    "a = 1\n",
    "b = 113\n",
    "print(\"a = \",hex(a))\n",
    "print(\"b = \",hex(b))\n",
    "\n",
    "# Define the elliptic curve over the finite field F_p\n",
    "E = EllipticCurve(GF(p), [a, b])\n",
    "\n",
    "# Compute the number of points on the curve\n",
    "num_points = E.cardinality()\n",
    "\n",
    "# Factorize the cardinality of the elliptic curve\n",
    "factors = factor(num_points)\n",
    "\n",
    "# Extract the largest prime factor\n",
    "n = max([factor[0] for factor in factors])\n",
    "\n",
    "# Compute the cofactor\n",
    "h = num_points // n\n",
    "\n",
    "# Print results\n",
    "print(\"Prime (p):\", hex(p))\n",
    "print(\"Elliptic Curve: y^2 = x^3 + {}x + {}\".format(a, b))\n",
    "print(\"Number of points (#E):\", hex(num_points))\n",
    "print(\"factors: \",factors)\n",
    "print(\"Largest prime order (n):\", n)\n",
    "print(\"Cofactor (h):\", h)\n"
   ]
  },
  {
   "cell_type": "code",
   "execution_count": 6,
   "metadata": {},
   "outputs": [
    {
     "name": "stdout",
     "output_type": "stream",
     "text": [
      "Random points on the curve (in hexadecimal):\n",
      "Point 1: (x = 0x6ec1935db97fcc1fb1407e42fdbb4dc267d168b7f766921b7310940e00cff432, y = 0x31bd051f57795498225b42fc672fd50d7928ecc40490668d150363a3a65a6d19)\n",
      "Point 2: (x = 0x3898f57a97abcf07e84bed3d5ae8e14cbe4d8d2c43c00eb49146499c9e09fa33, y = 0xfb5042f3411f68a501504b0e1fd500d4e9d73a664d507e6cfe1d7e7529f9363)\n",
      "Point 3: (x = 0x2e1003af589ba4397c9da7d90004a10a2a3534241aba9cad77b6346b7782ef7d, y = 0xe5e7c8a506f3e07b6c94f5ab4a4355519c277db38120d8a073028f94310c4e0d)\n",
      "Point 4: (x = 0x72b6191a4bc73e1122516272f56bf268dc974513f9742505b1df885a4dfff841, y = 0x20264c4e7a19042de0576e55e4ae28e1415d057414f71db074c938b796bd2dea)\n",
      "Point 5: (x = 0x949328fa5fe74989c9851d1f651abf7979af4b9fbaf63d24901867fb05b29b58, y = 0x10c2c6f1a6f88082e8bef897f11ec3d59d1ea82e3365f669631bdadcfc15a935)\n",
      "Point 6: (x = 0x85d1c07c140fdc4c5d4b82113f1483947e0c40286d6655c9b7291878dd548228, y = 0xd695730f4577574e461da4affc4724b6f2fd037e540925817ba856f8a156e0c7)\n",
      "Point 7: (x = 0x48dea1d41a3999b10c3bacd35901f04c19c28b3bc3a229f17544798fa9529ed5, y = 0x16e9e0a83b9b9399a5fe4320ae73cf403c1582a7c684b1f29f766fcbce77ea73)\n",
      "Point 8: (x = 0xb949dd18d748c097ef719e792c14e205a21e003e9f418938d96c4f248f6e5c0d, y = 0x2f05b625f48c262c4c4825dcb5c86ee137424725ed5db1e5cf1beda8a2ce14cf)\n",
      "Point 9: (x = 0xb3083ba6e64145e5dcd28295868c26f911faa944ae44dd90c2148865d44d0df5, y = 0xa36c997474c7f0d6c9810f58a80d61266c9f09c1fb3b06952ec7b85448cd1014)\n",
      "Point 10: (x = 0x1dd3a441c6342f6131f0cea56e84b1ab178028e7270755d4d65cceb7de8baa05, y = 0xce23201a73ee9a5b59b0b2032947699054dbb172a7f0371ca47b7f0c4e57c20e)\n"
     ]
    }
   ],
   "source": [
    "p = 0xe92e40ad6f281c8a082afdc49e1372659455bec8ceea043a614c835b7fe9eff5\n",
    "F = GF(p)  # Finite field of order p\n",
    "a, b = 0x1, 0x71  # Coefficients of the elliptic curve\n",
    "E = EllipticCurve(F, [a, b])\n",
    "\n",
    "# Generate random points\n",
    "random_points = [E.random_point() for _ in range(10)]  # Generate 10 random points\n",
    "\n",
    "# Print the random points in hexadecimal format\n",
    "print(\"Random points on the curve (in hexadecimal):\")\n",
    "for i, point in enumerate(random_points, start=1):\n",
    "    x_hex = hex(point[0])  # Convert x-coordinate to hex\n",
    "    y_hex = hex(point[1])  # Convert y-coordinate to hex\n",
    "    print(f\"Point {i}: (x = {x_hex}, y = {y_hex})\")"
   ]
  },
  {
   "cell_type": "code",
   "execution_count": 11,
   "metadata": {},
   "outputs": [
    {
     "name": "stdout",
     "output_type": "stream",
     "text": [
      "2P = (x = 0xc43a291c2502b6e002c9ba5efaad8a4e444ad6c2c6bb0ad75bf9d4d3922ac366, y = 0x9e0bcdf02d52f574d66eb23757256bd6757b4400149b2bdaedfcf88f0ca56a1c)\n",
      "P + Q = (x = 0x53367f571bc01e3e9087ca1bdfb710d71a936865ba196985c31783f8fb42c8e, y = 0x87c9b02507b6f4c6edbefa1d28c29856ab418c05841229abf6de87b759f58f3b)\n",
      "sP = (x = 0x8b50014e06c430d5f5436db1aff38f2d9996c86afaf66dfc585f6ce9793af55b, y = 0x1b3013ae3d5b496cd9d1c86ca3a4c93088e36220965dae7bf0ae0621fbd6c8f7)\n"
     ]
    }
   ],
   "source": [
    "p = 0xe92e40ad6f281c8a082afdc49e1372659455bec8ceea043a614c835b7fe9eff5\n",
    "F = GF(p)  # Finite field of order p\n",
    "a, b = 3, 0  # Coefficients of the elliptic curve\n",
    "E = EllipticCurve(F, [a, b])\n",
    "\n",
    "x2 = 0x41fc41c30d9201cc6dd62a291406402a35d38f182d849a67f046b526654f1d0e\n",
    "y2 = 0xaef501b3627995e0e62ff0d3723e9d972de7bb2c40f1c91b504639c15ad5d91b\n",
    "\n",
    "x1 = 0x35e7a27c695b70b882189a889fe29a1718445965f240e7b126c493b751289a8d\n",
    "y1 = 0x14d74e7250bd75b73f2a9633bfabb3c13e2a69ffe9281ea5550eba554560be8d\n",
    "#x2 = 0xcd9d91993aba5d2b98c85330bc9a999d2375d0549a061c0b29c5454e35a41b29\n",
    "#y2 = 0x988e734f7e795567e01cffe9f9ad023d265ffc7b50da3c32963fd7b9ffa885e5\n",
    "\n",
    "# Define points on the curve\n",
    "P = E([x1, y1])  # A point P(x, y) on the curve\n",
    "Q = E([x2, y2])   # Another point Q(x, y) on the curve\n",
    "\n",
    "# Point doubling (2P)\n",
    "dbl_P = 2 * P\n",
    "dbl_P_x, dbl_P_y = hex(dbl_P[0]), hex(dbl_P[1])  # Convert coordinates to hex\n",
    "print(f\"2P = (x = {dbl_P_x}, y = {dbl_P_y})\")\n",
    "\n",
    "# Point addition (P + Q)\n",
    "add_PQ = P + Q\n",
    "add_PQ_x, add_PQ_y = hex(add_PQ[0]), hex(add_PQ[1])  # Convert coordinates to hex\n",
    "print(f\"P + Q = (x = {add_PQ_x}, y = {add_PQ_y})\")\n",
    "\n",
    "s = 0x0f1e1d1c1b1a191817161514131211101f1e1d1c1b1a19181716151413121110\n",
    "sMult = s*P\n",
    "sMult_x, sMult_y = hex(sMult[0]), hex(sMult[1])\n",
    "print(f\"sP = (x = {sMult_x}, y = {sMult_y})\")\n"
   ]
  },
  {
   "cell_type": "code",
   "execution_count": 9,
   "metadata": {},
   "outputs": [
    {
     "name": "stdout",
     "output_type": "stream",
     "text": [
      "2P = (x = 0x63f7bf4a43f6fe6eae5b3b6a13354d5b40ab7b38fae5e46bcd06e316be8b598b, y = 0x43381894f79f602320431396e4129360828fadc6f2591d966f05a33216420062)\n",
      "P + Q = (x = 0x78ae6fbfa1e4a734e9c9b1a55d826707107f8784e4accafd50f726417da9a84d, y = 0xdda627e68115271d708922d6f382086fb3d93c11e611bf4537aa1438eb70d0d6)\n",
      "sP = (x = 0xd1313e3857fd9024ad41a2993f89f9fcf675733412f05bcc9ce86c123ff03a62, y = 0x3a30e73eb697b39e526992d37ed616684c50d3c78ed53d7ee69f57bc7cae1860)\n"
     ]
    }
   ],
   "source": [
    "p = 0xe92e40ad6f281c8a082afdc49e1372659455bec8ceea043a614c835b7fe9eff5\n",
    "F = GF(p)  # Finite field of order p\n",
    "a, b = 0x1, 0x71  # Coefficients of the elliptic curve\n",
    "E = EllipticCurve(F, [a, b])\n",
    "\n",
    "\n",
    "x1 = 0x33981029d8c086d2e701303c83e868be83ba7fd59949a5ab25de14ee7551275f\n",
    "y1 = 0xe785f67a3a629df16efa1a035bbcc3be1a18e84d36c97f235dec157044b459dd\n",
    "\n",
    "x2 = 0xe4e95f48f4d68cf9ec1f627b184e31e7d1d6b7d5d432f1a0ff862d8c13d7060e\n",
    "y2 = 0x3f66bc52b330667a6b92d644f41ddccdef2534f233f1aba932cda319d6774d54\n",
    "\n",
    "# Define points on the curve\n",
    "P = E([x1, y1])  # A point P(x, y) on the curve\n",
    "Q = E([x2, y2])   # Another point Q(x, y) on the curve\n",
    "\n",
    "# Point doubling (2P)\n",
    "dbl_P = 2 * P\n",
    "dbl_P_x, dbl_P_y = hex(dbl_P[0]), hex(dbl_P[1])  # Convert coordinates to hex\n",
    "print(f\"2P = (x = {dbl_P_x}, y = {dbl_P_y})\")\n",
    "\n",
    "# Point addition (P + Q)\n",
    "add_PQ = P + Q\n",
    "add_PQ_x, add_PQ_y = hex(add_PQ[0]), hex(add_PQ[1])  # Convert coordinates to hex\n",
    "print(f\"P + Q = (x = {add_PQ_x}, y = {add_PQ_y})\")\n",
    "\n",
    "#s = 0x0f1e1d1c1b1a191817161514131211101f1e1d1c1b1a19181716151413121110\n",
    "s = 0x41fc41c30d9201cc6dd62a291406402a35d38f182d849a67f046b526654f1d0e\n",
    "sMult = s*P\n",
    "sMult_x, sMult_y = hex(sMult[0]), hex(sMult[1])\n",
    "print(f\"sP = (x = {sMult_x}, y = {sMult_y})\")\n"
   ]
  },
  {
   "cell_type": "code",
   "execution_count": null,
   "metadata": {},
   "outputs": [],
   "source": []
  }
 ],
 "metadata": {
  "kernelspec": {
   "display_name": "SageMath 10.4",
   "language": "sage",
   "name": "sagemath"
  },
  "language_info": {
   "codemirror_mode": {
    "name": "ipython",
    "version": 3
   },
   "file_extension": ".py",
   "mimetype": "text/x-python",
   "name": "python",
   "nbconvert_exporter": "python",
   "pygments_lexer": "ipython3",
   "version": "3.12.7"
  }
 },
 "nbformat": 4,
 "nbformat_minor": 2
}
