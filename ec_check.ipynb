{
 "cells": [
  {
   "cell_type": "code",
   "execution_count": 4,
   "metadata": {
    "vscode": {
     "languageId": "python"
    }
   },
   "outputs": [
    {
     "name": "stdout",
     "output_type": "stream",
     "text": [
      "Found parameters:\n",
      "a = 1\n",
      "b = 113\n",
      "Elliptic Curve: y^2 = x^3 + 1x + 113\n",
      "Number of points (#E): 0xe92e40ad6f281c8a082afdc49e13726654ed7556486962d2f7571dd7ed27dcc9\n"
     ]
    }
   ],
   "source": [
    "from sage.all import *\n",
    "\n",
    "# Given prime\n",
    "p = 0xe92e40ad6f281c8a082afdc49e1372659455bec8ceea043a614c835b7fe9eff5\n",
    "\n",
    "# Create the finite field GF(p)\n",
    "F = GF(p)\n",
    "\n",
    "# Hasse bound for cardinality range\n",
    "lower_bound = p + 1 - 2 * int(p**0.5)\n",
    "upper_bound = p + 1 + 2 * int(p**0.5)\n",
    "\n",
    "# Efficient search for a, b\n",
    "found = False\n",
    "\n",
    "for a in range(1, 256):  # Iterate over a limited range\n",
    "    for b in range(1, 256):  # Iterate over b in the same range\n",
    "        if 4 * a^3 + 27 * b^2 == 0:  # Skip singular curves\n",
    "            continue\n",
    "\n",
    "        # Define the elliptic curve\n",
    "        E = EllipticCurve(F, [a, b])\n",
    "        \n",
    "        # Compute the number of points\n",
    "        num_points = E.cardinality()\n",
    "        \n",
    "        # Check if the cardinality is prime\n",
    "        if is_prime(num_points):\n",
    "            print(\"Found parameters:\")\n",
    "            print(\"a =\", a)\n",
    "            print(\"b =\", b)\n",
    "            print(\"Elliptic Curve: y^2 = x^3 + {}x + {}\".format(a, b))\n",
    "            print(\"Number of points (#E):\", hex(num_points))\n",
    "            found = True\n",
    "            break\n",
    "    if found:\n",
    "        break\n",
    "\n",
    "if not found:\n",
    "    print(\"No parameters (a, b) found with cofactor h = 1.\")\n"
   ]
  },
  {
   "cell_type": "code",
   "execution_count": 5,
   "metadata": {
    "vscode": {
     "languageId": "python"
    }
   },
   "outputs": [
    {
     "name": "stdout",
     "output_type": "stream",
     "text": [
      "a =  0x1\n",
      "b =  0x71\n",
      "Prime (p): 0xe92e40ad6f281c8a082afdc49e1372659455bec8ceea043a614c835b7fe9eff5\n",
      "Elliptic Curve: y^2 = x^3 + 1x + 113\n",
      "Number of points (#E): 0xe92e40ad6f281c8a082afdc49e13726654ed7556486962d2f7571dd7ed27dcc9\n",
      "factors:  105470615072424007464777057006017113535292866341706131315290000692344097594569\n",
      "Largest prime order (n): 105470615072424007464777057006017113535292866341706131315290000692344097594569\n",
      "Cofactor (h): 1\n"
     ]
    }
   ],
   "source": [
    "# Import SageMath modules\n",
    "from sage.all import *\n",
    "\n",
    "# Given prime\n",
    "p = 0xe92e40ad6f281c8a082afdc49e1372659455bec8ceea043a614c835b7fe9eff5\n",
    "\n",
    "# Elliptic curve parameters (can adjust a, b as needed)\n",
    "a = 1\n",
    "b = 113\n",
    "print(\"a = \",hex(a))\n",
    "print(\"b = \",hex(b))\n",
    "\n",
    "# Define the elliptic curve over the finite field F_p\n",
    "E = EllipticCurve(GF(p), [a, b])\n",
    "\n",
    "# Compute the number of points on the curve\n",
    "num_points = E.cardinality()\n",
    "\n",
    "# Factorize the cardinality of the elliptic curve\n",
    "factors = factor(num_points)\n",
    "\n",
    "# Extract the largest prime factor\n",
    "n = max([factor[0] for factor in factors])\n",
    "\n",
    "# Compute the cofactor\n",
    "h = num_points // n\n",
    "\n",
    "# Print results\n",
    "print(\"Prime (p):\", hex(p))\n",
    "print(\"Elliptic Curve: y^2 = x^3 + {}x + {}\".format(a, b))\n",
    "print(\"Number of points (#E):\", hex(num_points))\n",
    "print(\"factors: \",factors)\n",
    "print(\"Largest prime order (n):\", n)\n",
    "print(\"Cofactor (h):\", h)\n"
   ]
  },
  {
   "cell_type": "code",
   "execution_count": 1,
   "metadata": {
    "vscode": {
     "languageId": "python"
    }
   },
   "outputs": [
    {
     "name": "stdout",
     "output_type": "stream",
     "text": [
      "Random points on the curve (in hexadecimal):\n",
      "Point 1: (x = 0x1cdb0c0f208404adbb49e2032a0d43ee4f62ca4c0776cc61bb60adaa1e4cd724, y = 0x87112344fb9b053f122f2c7f58b750f07e6ac40ffb5d48c1757c0e599f1ffb8d)\n",
      "Point 2: (x = 0x164c168da9dcfd72a5cc25de21a8c41f2c1a8fccf52494434e3257d0a1c8f447, y = 0xc03e0c95ab8cb80d51087d59028b8151cf2d776d657dba8f73f15bff11a7e364)\n",
      "Point 3: (x = 0x1fc3457fde5cc8b9899e177d27e56b721cdbc8aa63669a525d371b48cd0fa753, y = 0x4028db842d345c719f0a5ba59ef42c26349efe988f361d463ed29cc2c20e8a93)\n",
      "Point 4: (x = 0x9cd1373ed8b2c6dd5547b0b43d767ecb4a7050b2719d2fe8d9cc16fb5463eb45, y = 0x9f0e9d3af1016b5404c9ac115ea704a67886f317658e9ad1e2b6a87c35d6abd5)\n",
      "Point 5: (x = 0x39b840109acc5b87593da3c852362409cf8bcdc3dc2ea8d43d60ed3480038dd0, y = 0x56c76a1043cace7a9f84f1008fdc30f898b6bcaa7fafc7f3107f6cae305d2062)\n",
      "Point 6: (x = 0x25635bb17200af1cfefaf9afd4e9118861bc01c381aaab23e13e08ea8b79e523, y = 0x7363c651f199088243cafda2497a2799a787fd5993a11fc3b1110ce709d8d83d)\n",
      "Point 7: (x = 0x6bac8b56bfbf8751448c650eb8045825411ee77eda0ba9021ffb465936c446a6, y = 0x44d5c7effa17e28eb33bbe792cf85b35e0486ce88d5f5aec402cb6cb19605ec5)\n",
      "Point 8: (x = 0x533eec23c63597cb86145f9ea88f2b350c5b935448ea8d2c4d26d817058e8b8a, y = 0x94b086da8354ec2905a5188c4199433d989cb848ad7deb375da34b6e564f0797)\n",
      "Point 9: (x = 0x83e5d1a12248487672aa82bc794ad612692a596fb08a662962a7b163cb8c20a5, y = 0x8f1d064c2ab6d83eecad3b5fb0699e08553ad1d7305e76e5a89827ed3675c61f)\n",
      "Point 10: (x = 0x5264135aa87032fd9d4604973a35a3891f86250270bdec2984bc60f9641dafd0, y = 0xb7a11daf0f430a38530be434a7ef84cd048b1e7d58e296dd741b2f606ac6b157)\n"
     ]
    }
   ],
   "source": [
    "p = 0xe92e40ad6f281c8a082afdc49e1372659455bec8ceea043a614c835b7fe9eff5\n",
    "F = GF(p)  # Finite field of order p\n",
    "a, b = 0x1, 0x71  # Coefficients of the elliptic curve\n",
    "E = EllipticCurve(F, [a, b])\n",
    "\n",
    "# Generate random points\n",
    "random_points = [E.random_point() for _ in range(10)]  # Generate 10 random points\n",
    "\n",
    "# Print the random points in hexadecimal format\n",
    "print(\"Random points on the curve (in hexadecimal):\")\n",
    "for i, point in enumerate(random_points, start=1):\n",
    "    x_hex = hex(point[0])  # Convert x-coordinate to hex\n",
    "    y_hex = hex(point[1])  # Convert y-coordinate to hex\n",
    "    print(f\"Point {i}: (x = {x_hex}, y = {y_hex})\")"
   ]
  },
  {
   "cell_type": "code",
   "execution_count": 4,
   "metadata": {
    "vscode": {
     "languageId": "python"
    }
   },
   "outputs": [
    {
     "name": "stdout",
     "output_type": "stream",
     "text": [
      "2P = (x = 0xc43a291c2502b6e002c9ba5efaad8a4e444ad6c2c6bb0ad75bf9d4d3922ac366, y = 0x9e0bcdf02d52f574d66eb23757256bd6757b4400149b2bdaedfcf88f0ca56a1c)\n",
      "P + Q = (x = 0x53367f571bc01e3e9087ca1bdfb710d71a936865ba196985c31783f8fb42c8e, y = 0x87c9b02507b6f4c6edbefa1d28c29856ab418c05841229abf6de87b759f58f3b)\n",
      "sP = (x = 0x8b50014e06c430d5f5436db1aff38f2d9996c86afaf66dfc585f6ce9793af55b, y = 0x1b3013ae3d5b496cd9d1c86ca3a4c93088e36220965dae7bf0ae0621fbd6c8f7)\n"
     ]
    }
   ],
   "source": [
    "p = 0xe92e40ad6f281c8a082afdc49e1372659455bec8ceea043a614c835b7fe9eff5\n",
    "F = GF(p)  # Finite field of order p\n",
    "a, b = 3, 0  # Coefficients of the elliptic curve\n",
    "E = EllipticCurve(F, [a, b])\n",
    "\n",
    "x2 = 0x41fc41c30d9201cc6dd62a291406402a35d38f182d849a67f046b526654f1d0e\n",
    "y2 = 0xaef501b3627995e0e62ff0d3723e9d972de7bb2c40f1c91b504639c15ad5d91b\n",
    "\n",
    "x1 = 0x35e7a27c695b70b882189a889fe29a1718445965f240e7b126c493b751289a8d\n",
    "y1 = 0x14d74e7250bd75b73f2a9633bfabb3c13e2a69ffe9281ea5550eba554560be8d\n",
    "#x2 = 0xcd9d91993aba5d2b98c85330bc9a999d2375d0549a061c0b29c5454e35a41b29\n",
    "#y2 = 0x988e734f7e795567e01cffe9f9ad023d265ffc7b50da3c32963fd7b9ffa885e5\n",
    "\n",
    "# Define points on the curve\n",
    "P = E([x1, y1])  # A point P(x, y) on the curve\n",
    "Q = E([x2, y2])   # Another point Q(x, y) on the curve\n",
    "\n",
    "# Point doubling (2P)\n",
    "dbl_P = 2 * P\n",
    "dbl_P_x, dbl_P_y = hex(dbl_P[0]), hex(dbl_P[1])  # Convert coordinates to hex\n",
    "print(f\"2P = (x = {dbl_P_x}, y = {dbl_P_y})\")\n",
    "\n",
    "# Point addition (P + Q)\n",
    "add_PQ = P + Q\n",
    "add_PQ_x, add_PQ_y = hex(add_PQ[0]), hex(add_PQ[1])  # Convert coordinates to hex\n",
    "print(f\"P + Q = (x = {add_PQ_x}, y = {add_PQ_y})\")\n",
    "\n",
    "s = 0x0f1e1d1c1b1a191817161514131211101f1e1d1c1b1a19181716151413121110\n",
    "sMult = s*P\n",
    "sMult_x, sMult_y = hex(sMult[0]), hex(sMult[1])\n",
    "print(f\"sP = (x = {sMult_x}, y = {sMult_y})\")\n"
   ]
  },
  {
   "cell_type": "code",
   "execution_count": 5,
   "metadata": {
    "vscode": {
     "languageId": "python"
    }
   },
   "outputs": [
    {
     "name": "stdout",
     "output_type": "stream",
     "text": [
      "2P = (x = 0x16c77ce78f5b665b13f1ef21d7076621d951e603098dffee2cb0ea2f5fa26b98, y = 0xd976271985f2184f2e36d4db68dd5fcdf883a63624104a0fca3750eb31a4c296)\n",
      "P + Q = (x = 0xa0f2bc8cffb991e577a4bcc4a1b8d2f2c41b8254acba27a48bdd8571a4abc0c4, y = 0x72fb278dfe7846bb0886d6faef903e895d979e9fbebb2b173247280d7c170e6)\n",
      "sP = (x = 0xc46f7bca9f2b0aced005f4aaba2ff40b8d33aa6a27acf1063442cb34c2be61dc, y = 0xe8538dbda36fc2ec29d8cf29335ce23a19523e06f43750fb43487bd145220f8c)\n"
     ]
    }
   ],
   "source": [
    "p = 0xe92e40ad6f281c8a082afdc49e1372659455bec8ceea043a614c835b7fe9eff5\n",
    "F = GF(p)  # Finite field of order p\n",
    "a, b = 0x1, 0x71  # Coefficients of the elliptic curve\n",
    "E = EllipticCurve(F, [a, b])\n",
    "\n",
    "\n",
    "x1 = 0x1cdb0c0f208404adbb49e2032a0d43ee4f62ca4c0776cc61bb60adaa1e4cd724\n",
    "y1 = 0x87112344fb9b053f122f2c7f58b750f07e6ac40ffb5d48c1757c0e599f1ffb8d\n",
    "\n",
    "x2 = 0xe4e95f48f4d68cf9ec1f627b184e31e7d1d6b7d5d432f1a0ff862d8c13d7060e\n",
    "y2 = 0x3f66bc52b330667a6b92d644f41ddccdef2534f233f1aba932cda319d6774d54\n",
    "\n",
    "# Define points on the curve\n",
    "P = E([x1, y1])  # A point P(x, y) on the curve\n",
    "Q = E([x2, y2])   # Another point Q(x, y) on the curve\n",
    "\n",
    "# Point doubling (2P)\n",
    "dbl_P = 2 * P\n",
    "dbl_P_x, dbl_P_y = hex(dbl_P[0]), hex(dbl_P[1])  # Convert coordinates to hex\n",
    "print(f\"2P = (x = {dbl_P_x}, y = {dbl_P_y})\")\n",
    "\n",
    "# Point addition (P + Q)\n",
    "add_PQ = P + Q\n",
    "add_PQ_x, add_PQ_y = hex(add_PQ[0]), hex(add_PQ[1])  # Convert coordinates to hex\n",
    "print(f\"P + Q = (x = {add_PQ_x}, y = {add_PQ_y})\")\n",
    "\n",
    "#s = 0x0f1e1d1c1b1a191817161514131211101f1e1d1c1b1a19181716151413121110\n",
    "s = 0x6bac8b56bfbf8751448c650eb8045825411ee77eda0ba9021ffb465936c446a6\n",
    "sMult = s*P\n",
    "sMult_x, sMult_y = hex(sMult[0]), hex(sMult[1])\n",
    "print(f\"sP = (x = {sMult_x}, y = {sMult_y})\")\n"
   ]
  },
  {
   "cell_type": "code",
   "execution_count": null,
   "metadata": {
    "vscode": {
     "languageId": "python"
    }
   },
   "outputs": [],
   "source": []
  }
 ],
 "metadata": {
  "kernelspec": {
   "display_name": "SageMath 10.4",
   "language": "sage",
   "name": "sagemath"
  },
  "language_info": {
   "codemirror_mode": {
    "name": "ipython",
    "version": 3
   },
   "file_extension": ".py",
   "mimetype": "text/x-python",
   "name": "sage",
   "nbconvert_exporter": "python",
   "pygments_lexer": "ipython3",
   "version": "3.12.7"
  }
 },
 "nbformat": 4,
 "nbformat_minor": 2
}
